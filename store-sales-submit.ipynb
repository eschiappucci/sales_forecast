{
 "cells": [
  {
   "cell_type": "code",
   "execution_count": 1,
   "id": "943b2c20",
   "metadata": {
    "_cell_guid": "b1076dfc-b9ad-4769-8c92-a6c4dae69d19",
    "_uuid": "8f2839f25d086af736a60e9eeb907d3b93b6e0e5",
    "execution": {
     "iopub.execute_input": "2024-07-26T08:00:40.913504Z",
     "iopub.status.busy": "2024-07-26T08:00:40.913159Z",
     "iopub.status.idle": "2024-07-26T08:01:00.255565Z",
     "shell.execute_reply": "2024-07-26T08:01:00.254755Z"
    },
    "papermill": {
     "duration": 19.349394,
     "end_time": "2024-07-26T08:01:00.257802",
     "exception": false,
     "start_time": "2024-07-26T08:00:40.908408",
     "status": "completed"
    },
    "tags": []
   },
   "outputs": [
    {
     "name": "stderr",
     "output_type": "stream",
     "text": [
      "2024-07-31 12:01:57.602152: I tensorflow/core/util/port.cc:153] oneDNN custom operations are on. You may see slightly different numerical results due to floating-point round-off errors from different computation orders. To turn them off, set the environment variable `TF_ENABLE_ONEDNN_OPTS=0`.\n",
      "2024-07-31 12:01:57.609476: I external/local_xla/xla/tsl/cuda/cudart_stub.cc:32] Could not find cuda drivers on your machine, GPU will not be used.\n",
      "2024-07-31 12:01:57.675738: I external/local_xla/xla/tsl/cuda/cudart_stub.cc:32] Could not find cuda drivers on your machine, GPU will not be used.\n",
      "2024-07-31 12:01:57.730968: E external/local_xla/xla/stream_executor/cuda/cuda_fft.cc:485] Unable to register cuFFT factory: Attempting to register factory for plugin cuFFT when one has already been registered\n",
      "2024-07-31 12:01:57.786548: E external/local_xla/xla/stream_executor/cuda/cuda_dnn.cc:8454] Unable to register cuDNN factory: Attempting to register factory for plugin cuDNN when one has already been registered\n",
      "2024-07-31 12:01:57.801867: E external/local_xla/xla/stream_executor/cuda/cuda_blas.cc:1452] Unable to register cuBLAS factory: Attempting to register factory for plugin cuBLAS when one has already been registered\n",
      "2024-07-31 12:01:57.896066: I tensorflow/core/platform/cpu_feature_guard.cc:210] This TensorFlow binary is optimized to use available CPU instructions in performance-critical operations.\n",
      "To enable the following instructions: AVX2 AVX512F AVX512_VNNI FMA, in other operations, rebuild TensorFlow with the appropriate compiler flags.\n",
      "2024-07-31 12:01:58.806231: W tensorflow/compiler/tf2tensorrt/utils/py_utils.cc:38] TF-TRT Warning: Could not find TensorRT\n"
     ]
    }
   ],
   "source": [
    "import os\n",
    "import numpy as np\n",
    "import pandas as pd\n",
    "from sklearn.preprocessing import MinMaxScaler, OrdinalEncoder\n",
    "import tensorflow as tf\n",
    "from tensorflow.keras import layers\n",
    "from tensorflow.keras.models import Sequential\n",
    "from tensorflow.keras.callbacks import EarlyStopping\n",
    "import math\n",
    "import keras\n",
    "\n",
    "import matplotlib.pyplot as plt\n",
    "import seaborn as sns\n",
    "import plotly.express as px\n",
    "\n",
    "from scipy.stats import f_oneway\n",
    "\n",
    "import warnings\n",
    "warnings.filterwarnings('ignore')\n",
    "\n",
    "data_path = 'og_data/'\n",
    "\n",
    "train = pd.read_csv(os.path.join(data_path, 'train.csv'), parse_dates=['date'])\n",
    "test = pd.read_csv(os.path.join(data_path, 'test.csv'), parse_dates=['date'])\n",
    "\n",
    "# holidays_events = pd.read_csv(os.path.join(data_path, 'holidays_events.csv'), parse_dates=['date'])\n",
    "oil = pd.read_csv(os.path.join(data_path, 'oil.csv'), parse_dates=['date'])\n",
    "stores = pd.read_csv(os.path.join(data_path, 'stores.csv'))\n",
    "transactions = pd.read_csv(os.path.join(data_path, 'transactions.csv'), parse_dates=['date'])\n",
    "submission = pd.read_csv(os.path.join(data_path, 'sample_submission.csv'), index_col='id')"
   ]
  },
  {
   "cell_type": "code",
   "execution_count": 2,
   "id": "2756fdd1",
   "metadata": {
    "execution": {
     "iopub.execute_input": "2024-07-26T08:01:00.266033Z",
     "iopub.status.busy": "2024-07-26T08:01:00.265752Z",
     "iopub.status.idle": "2024-07-26T08:01:03.324404Z",
     "shell.execute_reply": "2024-07-26T08:01:03.323452Z"
    },
    "papermill": {
     "duration": 3.065145,
     "end_time": "2024-07-26T08:01:03.326557",
     "exception": false,
     "start_time": "2024-07-26T08:01:00.261412",
     "status": "completed"
    },
    "tags": []
   },
   "outputs": [
    {
     "data": {
      "image/png": "[encoded data removed]",
      "text/plain": [
       "<Figure size 432x288 with 1 Axes>"
      ]
     },
     "metadata": {
      "needs_background": "light"
     },
     "output_type": "display_data"
    },
    {
     "name": "stdout",
     "output_type": "stream",
     "text": [
      "F-statistic: 1506.5585637191425\n",
      "P-value: 0.0\n"
     ]
    }
   ],
   "source": [
    "\n",
    "data = pd.read_csv(os.path.join(data_path, 'train.csv'), parse_dates=['date'])\n",
    "\n",
    "data['dayofweek'] = data['date'].dt.dayofweek\n",
    "\n",
    "average_sales = data.groupby('dayofweek')['sales'].mean()\n",
    "\n",
    "average_sales.plot(kind='bar', color='skyblue')\n",
    "plt.title('Average Sales by Day of the Week')\n",
    "plt.xlabel('Day of the Week')\n",
    "plt.ylabel('Average Sales')\n",
    "plt.xticks(range(0, 7), ['Mon', 'Tue', 'Wed', 'Thu', 'Fri', 'Sat', 'Sun'], rotation=0)\n",
    "plt.show()\n",
    "\n",
    "grouped = data.groupby('dayofweek')['sales']\n",
    "\n",
    "sales_data = [group for name, group in grouped]\n",
    "\n",
    "f_stat, p_value = f_oneway(*sales_data)\n",
    "print('F-statistic:', f_stat)\n",
    "print('P-value:', p_value)"
   ]
  },
  {
   "cell_type": "code",
   "execution_count": 3,
   "id": "e2d88fcb",
   "metadata": {},
   "outputs": [],
   "source": [
    "def nan_helper(y):\n",
    "    \"\"\"Helper to handle indices and logical indices of NaNs.\n",
    "\n",
    "    Input:\n",
    "        - y, 1d numpy array with possible NaNs\n",
    "    Output:\n",
    "        - nans, logical indices of NaNs\n",
    "        - index, a function, with signature indices= index(logical_indices),\n",
    "          to convert logical indices of NaNs to 'equivalent' indices\n",
    "    Example:\n",
    "        >>> # linear interpolation of NaNs\n",
    "        >>> nans, x= nan_helper(y)\n",
    "        >>> y[nans]= np.interp(x(nans), x(~nans), y[~nans])\n",
    "    \"\"\"\n",
    "\n",
    "    return np.isnan(y), lambda z: z.nonzero()[0]"
   ]
  },
  {
   "cell_type": "code",
   "execution_count": 4,
   "id": "63a83075",
   "metadata": {},
   "outputs": [],
   "source": [
    "date_min, date_max = train.date.min(), test.date.max()\n",
    "oil['date'] = pd.to_datetime(oil['date'])\n",
    "new_df = pd.DataFrame()\n",
    "new_df['date'] = pd.date_range(date_min, date_max)\n",
    "new_df = pd.merge(new_df,oil, how=\"outer\", on='date')\n",
    "new_df['dcoilwtico'] = new_df['dcoilwtico'].interpolate(method = \"linear\")\n",
    "oil = new_df\n",
    "\n",
    "oil_prices = np.asarray(oil['dcoilwtico'])\n",
    "nans, x= nan_helper(oil_prices)\n",
    "oil_prices[nans]= np.interp(x(nans), x(~nans), oil_prices[~nans])\n",
    "oil['dcoilwtico'] = oil_prices"
   ]
  },
  {
   "cell_type": "code",
   "execution_count": 32,
   "id": "17e1ed22",
   "metadata": {
    "execution": {
     "iopub.execute_input": "2024-07-26T08:01:03.350481Z",
     "iopub.status.busy": "2024-07-26T08:01:03.350216Z",
     "iopub.status.idle": "2024-07-26T08:01:05.696014Z",
     "shell.execute_reply": "2024-07-26T08:01:05.695126Z"
    },
    "papermill": {
     "duration": 2.35348,
     "end_time": "2024-07-26T08:01:05.698750",
     "exception": false,
     "start_time": "2024-07-26T08:01:03.345270",
     "status": "completed"
    },
    "tags": []
   },
   "outputs": [
    {
     "name": "stdout",
     "output_type": "stream",
     "text": [
      "\n",
      "First 5 rows of the original train data:\n",
      "(1599, 1782)\n",
      "store_nbr                          1                                       \\\n",
      "family                            0    1    2       3    4        5    6    \n",
      "date       dcoilwtico dayofweek                                             \n",
      "2013-01-01 93.140000  1          0.0  0.0  0.0     0.0  0.0    0.000  0.0   \n",
      "2013-01-02 93.140000  2          2.0  0.0  2.0  1091.0  0.0  470.652  0.0   \n",
      "2013-01-03 92.970000  3          3.0  0.0  0.0   919.0  0.0  310.655  0.0   \n",
      "2013-01-04 93.120000  4          3.0  0.0  3.0   953.0  0.0  198.366  0.0   \n",
      "2013-01-05 93.146667  5          5.0  0.0  3.0  1160.0  0.0  301.057  0.0   \n",
      "\n",
      "store_nbr                                                ...    9           \\\n",
      "family                               7      8        9   ...   23       24   \n",
      "date       dcoilwtico dayofweek                          ...                 \n",
      "2013-01-01 93.140000  1             0.0    0.0    0.000  ...  0.0    0.000   \n",
      "2013-01-02 93.140000  2          1060.0  579.0  164.069  ...  0.0  374.531   \n",
      "2013-01-03 92.970000  3           836.0  453.0  151.582  ...  0.0  400.863   \n",
      "2013-01-04 93.120000  4           827.0  460.0  131.411  ...  0.0  310.878   \n",
      "2013-01-05 93.146667  5           811.0  464.0  118.613  ...  0.0  447.685   \n",
      "\n",
      "store_nbr                                                                  \\\n",
      "family                              25   26   27       28    29   30   31   \n",
      "date       dcoilwtico dayofweek                                             \n",
      "2013-01-01 93.140000  1            0.0  0.0  0.0    0.000   0.0  0.0  0.0   \n",
      "2013-01-02 93.140000  2          482.0  0.0  0.0  651.292  83.0  0.0  0.0   \n",
      "2013-01-03 92.970000  3          372.0  0.0  0.0  509.496  66.0  0.0  0.0   \n",
      "2013-01-04 93.120000  4          324.0  0.0  0.0  332.672  57.0  0.0  0.0   \n",
      "2013-01-05 93.146667  5          461.0  0.0  0.0  510.919  84.0  0.0  0.0   \n",
      "\n",
      "store_nbr                                \n",
      "family                               32  \n",
      "date       dcoilwtico dayofweek          \n",
      "2013-01-01 93.140000  1           0.000  \n",
      "2013-01-02 93.140000  2          29.214  \n",
      "2013-01-03 92.970000  3          25.000  \n",
      "2013-01-04 93.120000  4          11.000  \n",
      "2013-01-05 93.146667  5          28.361  \n",
      "\n",
      "[5 rows x 1782 columns]\n",
      "\n",
      "First 5 rows of the original train data:\n",
      "(1599, 1782)\n",
      "[[0.         0.         0.         ... 0.         0.         0.        ]\n",
      " [0.11111111 0.         0.16666667 ... 0.         0.         0.48512928]\n",
      " [0.16666667 0.         0.         ... 0.         0.         0.41515136]\n",
      " ...\n",
      " [0.22222222 0.         0.25       ... 0.49480247 0.00920245 0.45467379]\n",
      " [0.05555556 0.         0.08333333 ... 0.59724127 0.02147239 0.65942643]\n",
      " [0.11111111 0.         0.41666667 ... 0.34804615 0.00613497 0.31712582]]\n"
     ]
    }
   ],
   "source": [
    "train_data = train.copy().drop(['onpromotion'], axis=1)\n",
    "test_data = test.copy().drop(['onpromotion'], axis=1)\n",
    "\n",
    "train_data['dayofweek'] = data['date'].dt.dayofweek\n",
    "test_data['dayofweek'] = data['date'].dt.dayofweek\n",
    "\n",
    "train_data = train_data.merge(oil, on='date', how='left')\n",
    "test_data = test_data.merge(oil, on='date', how='left')\n",
    "\n",
    "\n",
    "\n",
    "# Ordinal Encoding for 'family' column\n",
    "ordinal_encoder = OrdinalEncoder(dtype=int)\n",
    "train_data[['family']] = ordinal_encoder.fit_transform(train_data[['family']])\n",
    "test_data[['family']] = ordinal_encoder.transform(test_data[['family']])\n",
    "\n",
    "num_days_train = train[\"date\"].nunique()\n",
    "num_stores_train = train[\"store_nbr\"].nunique()\n",
    "num_families_train = train[\"family\"].nunique()\n",
    "\n",
    "num_days_test = test[\"date\"].nunique()\n",
    "num_stores_test = test[\"store_nbr\"].nunique()\n",
    "num_families_test = test[\"family\"].nunique()\n",
    "\n",
    "pivoted_train = train_data.pivot(index=['date','dcoilwtico','dayofweek'], columns=['store_nbr', 'family'], values='sales')\n",
    "\n",
    "train_samples = int(num_days_train * 0.95)\n",
    "train_samples_df = pivoted_train[:train_samples]\n",
    "valid_samples_df = pivoted_train[train_samples:]\n",
    "\n",
    "print(\"\\nFirst 5 rows of the original train data:\")\n",
    "print(train_samples_df.shape)\n",
    "print(train_samples_df.head())\n",
    "\n",
    "minmax_scaler = MinMaxScaler()\n",
    "minmax_scaler.fit(train_samples_df)\n",
    "scaled_train_samples = minmax_scaler.transform(train_samples_df)\n",
    "scaled_validation_samples = minmax_scaler.transform(valid_samples_df)\n",
    "\n",
    "print(\"\\nFirst 5 rows of the original train data:\")\n",
    "print(scaled_train_samples.shape)\n",
    "print(scaled_train_samples)"
   ]
  },
  {
   "cell_type": "code",
   "execution_count": 6,
   "id": "fccd28a3",
   "metadata": {},
   "outputs": [],
   "source": [
    "a, count, max_var = 0, 0, 20\n",
    "def get_lr_callback(batch_size=8, mode='cos', epochs=10, plot=False):\n",
    "    lr_start, lr_max, lr_min = 1e-2, 1e-5 * batch_size, 1e-4\n",
    "    lr_ramp_ep, lr_sus_ep, lr_decay = 0, 0, 0.75\n",
    "    line_max, line_min = 1, 1e-2\n",
    "    \n",
    "    def lrfn(epoch):  # Learning rate update function\n",
    "        if epoch < lr_ramp_ep: lr = (lr_max - lr_start) / lr_ramp_ep * epoch + lr_start\n",
    "        elif epoch < lr_ramp_ep + lr_sus_ep: lr = lr_max\n",
    "        elif mode == 'exp': lr = (lr_max - lr_min) * lr_decay**(epoch - lr_ramp_ep - lr_sus_ep) + lr_min\n",
    "        elif mode == 'line': \n",
    "            m = (lr_min - lr_start)/epochs\n",
    "            lr = m * epoch + lr_start\n",
    "        elif mode == 'step': lr = lr_max * lr_decay**((epoch - lr_ramp_ep - lr_sus_ep) // 2)\n",
    "        elif mode == 'cos':\n",
    "            decay_total_epochs, decay_epoch_index = (epochs - lr_ramp_ep - lr_sus_ep) /(epochs/20), epoch - lr_ramp_ep - lr_sus_ep\n",
    "            phase = math.pi * decay_epoch_index / decay_total_epochs\n",
    "            m = (line_min - line_max)/epochs\n",
    "            control = m * epoch + line_max\n",
    "            lr = ((lr_start - lr_min) * (1+np.cos(phase)) + lr_min) * control\n",
    "        elif mode == 'var':\n",
    "            global a, count, max_var\n",
    "            m = (lr_min - lr_start)/max_var\n",
    "            if a < max_var:\n",
    "                lr = m * (epoch-count) + lr_start\n",
    "                a += 1\n",
    "            elif a >= max_var:\n",
    "                print(epoch-count)\n",
    "                lr = m * (epoch-count) + lr_start\n",
    "                count += max_var + 1\n",
    "                a = 0\n",
    "        return lr\n",
    "\n",
    "    if plot:  # Plot lr curve if plot is True\n",
    "        plt.figure(figsize=(10, 5))\n",
    "        plt.plot(np.arange(epochs), [lrfn(epoch) for epoch in np.arange(epochs)], marker='o')\n",
    "        plt.xlabel('epoch'); plt.ylabel('lr')\n",
    "        plt.title('LR Scheduler')\n",
    "        plt.show()\n",
    "\n",
    "    return keras.callbacks.LearningRateScheduler(lrfn, verbose=False)  # Create lr callback"
   ]
  },
  {
   "cell_type": "code",
   "execution_count": 33,
   "id": "149d8112",
   "metadata": {},
   "outputs": [
    {
     "data": {
      "image/png": "[encoded data removed]",
      "text/plain": [
       "<Figure size 720x360 with 1 Axes>"
      ]
     },
     "metadata": {
      "needs_background": "light"
     },
     "output_type": "display_data"
    }
   ],
   "source": [
    "batch_size = 512\n",
    "lr_mode = 'line'\n",
    "epochs = 1000 \n",
    "lr_cb = get_lr_callback(batch_size, mode=lr_mode, epochs=epochs, plot=True)"
   ]
  },
  {
   "cell_type": "code",
   "execution_count": 47,
   "id": "ad32ef96",
   "metadata": {
    "execution": {
     "iopub.execute_input": "2024-07-26T08:01:05.709144Z",
     "iopub.status.busy": "2024-07-26T08:01:05.708458Z",
     "iopub.status.idle": "2024-07-26T08:05:05.541386Z",
     "shell.execute_reply": "2024-07-26T08:05:05.540347Z"
    },
    "papermill": {
     "duration": 239.840818,
     "end_time": "2024-07-26T08:05:05.543883",
     "exception": false,
     "start_time": "2024-07-26T08:01:05.703065",
     "status": "completed"
    },
    "tags": []
   },
   "outputs": [
    {
     "data": {
      "text/html": [
       "<pre style=\"white-space:pre;overflow-x:auto;line-height:normal;font-family:Menlo,'DejaVu Sans Mono',consolas,'Courier New',monospace\"><span style=\"font-weight: bold\">Model: \"sequential_16\"</span>\n",
       "</pre>\n"
      ],
      "text/plain": [
       "\u001b[1mModel: \"sequential_16\"\u001b[0m\n"
      ]
     },
     "metadata": {},
     "output_type": "display_data"
    },
    {
     "data": {
      "text/html": [
       "<pre style=\"white-space:pre;overflow-x:auto;line-height:normal;font-family:Menlo,'DejaVu Sans Mono',consolas,'Courier New',monospace\">┏━━━━━━━━━━━━━━━━━━━━━━━━━━━━━━━━━┳━━━━━━━━━━━━━━━━━━━━━━━━┳━━━━━━━━━━━━━━━┓\n",
       "┃<span style=\"font-weight: bold\"> Layer (type)                    </span>┃<span style=\"font-weight: bold\"> Output Shape           </span>┃<span style=\"font-weight: bold\">       Param # </span>┃\n",
       "┡━━━━━━━━━━━━━━━━━━━━━━━━━━━━━━━━━╇━━━━━━━━━━━━━━━━━━━━━━━━╇━━━━━━━━━━━━━━━┩\n",
       "│ lstm_78 (<span style=\"color: #0087ff; text-decoration-color: #0087ff\">LSTM</span>)                  │ (<span style=\"color: #00d7ff; text-decoration-color: #00d7ff\">None</span>, <span style=\"color: #00af00; text-decoration-color: #00af00\">69</span>, <span style=\"color: #00af00; text-decoration-color: #00af00\">200</span>)        │     <span style=\"color: #00af00; text-decoration-color: #00af00\">1,586,400</span> │\n",
       "├─────────────────────────────────┼────────────────────────┼───────────────┤\n",
       "│ batch_normalization_78          │ (<span style=\"color: #00d7ff; text-decoration-color: #00d7ff\">None</span>, <span style=\"color: #00af00; text-decoration-color: #00af00\">69</span>, <span style=\"color: #00af00; text-decoration-color: #00af00\">200</span>)        │           <span style=\"color: #00af00; text-decoration-color: #00af00\">800</span> │\n",
       "│ (<span style=\"color: #0087ff; text-decoration-color: #0087ff\">BatchNormalization</span>)            │                        │               │\n",
       "├─────────────────────────────────┼────────────────────────┼───────────────┤\n",
       "│ spatial_dropout1d_12            │ (<span style=\"color: #00d7ff; text-decoration-color: #00d7ff\">None</span>, <span style=\"color: #00af00; text-decoration-color: #00af00\">69</span>, <span style=\"color: #00af00; text-decoration-color: #00af00\">200</span>)        │             <span style=\"color: #00af00; text-decoration-color: #00af00\">0</span> │\n",
       "│ (<span style=\"color: #0087ff; text-decoration-color: #0087ff\">SpatialDropout1D</span>)              │                        │               │\n",
       "├─────────────────────────────────┼────────────────────────┼───────────────┤\n",
       "│ lstm_79 (<span style=\"color: #0087ff; text-decoration-color: #0087ff\">LSTM</span>)                  │ (<span style=\"color: #00d7ff; text-decoration-color: #00d7ff\">None</span>, <span style=\"color: #00af00; text-decoration-color: #00af00\">69</span>, <span style=\"color: #00af00; text-decoration-color: #00af00\">300</span>)        │       <span style=\"color: #00af00; text-decoration-color: #00af00\">601,200</span> │\n",
       "├─────────────────────────────────┼────────────────────────┼───────────────┤\n",
       "│ batch_normalization_79          │ (<span style=\"color: #00d7ff; text-decoration-color: #00d7ff\">None</span>, <span style=\"color: #00af00; text-decoration-color: #00af00\">69</span>, <span style=\"color: #00af00; text-decoration-color: #00af00\">300</span>)        │         <span style=\"color: #00af00; text-decoration-color: #00af00\">1,200</span> │\n",
       "│ (<span style=\"color: #0087ff; text-decoration-color: #0087ff\">BatchNormalization</span>)            │                        │               │\n",
       "├─────────────────────────────────┼────────────────────────┼───────────────┤\n",
       "│ spatial_dropout1d_13            │ (<span style=\"color: #00d7ff; text-decoration-color: #00d7ff\">None</span>, <span style=\"color: #00af00; text-decoration-color: #00af00\">69</span>, <span style=\"color: #00af00; text-decoration-color: #00af00\">300</span>)        │             <span style=\"color: #00af00; text-decoration-color: #00af00\">0</span> │\n",
       "│ (<span style=\"color: #0087ff; text-decoration-color: #0087ff\">SpatialDropout1D</span>)              │                        │               │\n",
       "├─────────────────────────────────┼────────────────────────┼───────────────┤\n",
       "│ lstm_80 (<span style=\"color: #0087ff; text-decoration-color: #0087ff\">LSTM</span>)                  │ (<span style=\"color: #00d7ff; text-decoration-color: #00d7ff\">None</span>, <span style=\"color: #00af00; text-decoration-color: #00af00\">69</span>, <span style=\"color: #00af00; text-decoration-color: #00af00\">300</span>)        │       <span style=\"color: #00af00; text-decoration-color: #00af00\">721,200</span> │\n",
       "├─────────────────────────────────┼────────────────────────┼───────────────┤\n",
       "│ batch_normalization_80          │ (<span style=\"color: #00d7ff; text-decoration-color: #00d7ff\">None</span>, <span style=\"color: #00af00; text-decoration-color: #00af00\">69</span>, <span style=\"color: #00af00; text-decoration-color: #00af00\">300</span>)        │         <span style=\"color: #00af00; text-decoration-color: #00af00\">1,200</span> │\n",
       "│ (<span style=\"color: #0087ff; text-decoration-color: #0087ff\">BatchNormalization</span>)            │                        │               │\n",
       "├─────────────────────────────────┼────────────────────────┼───────────────┤\n",
       "│ spatial_dropout1d_14            │ (<span style=\"color: #00d7ff; text-decoration-color: #00d7ff\">None</span>, <span style=\"color: #00af00; text-decoration-color: #00af00\">69</span>, <span style=\"color: #00af00; text-decoration-color: #00af00\">300</span>)        │             <span style=\"color: #00af00; text-decoration-color: #00af00\">0</span> │\n",
       "│ (<span style=\"color: #0087ff; text-decoration-color: #0087ff\">SpatialDropout1D</span>)              │                        │               │\n",
       "├─────────────────────────────────┼────────────────────────┼───────────────┤\n",
       "│ lstm_81 (<span style=\"color: #0087ff; text-decoration-color: #0087ff\">LSTM</span>)                  │ (<span style=\"color: #00d7ff; text-decoration-color: #00d7ff\">None</span>, <span style=\"color: #00af00; text-decoration-color: #00af00\">69</span>, <span style=\"color: #00af00; text-decoration-color: #00af00\">300</span>)        │       <span style=\"color: #00af00; text-decoration-color: #00af00\">721,200</span> │\n",
       "├─────────────────────────────────┼────────────────────────┼───────────────┤\n",
       "│ batch_normalization_81          │ (<span style=\"color: #00d7ff; text-decoration-color: #00d7ff\">None</span>, <span style=\"color: #00af00; text-decoration-color: #00af00\">69</span>, <span style=\"color: #00af00; text-decoration-color: #00af00\">300</span>)        │         <span style=\"color: #00af00; text-decoration-color: #00af00\">1,200</span> │\n",
       "│ (<span style=\"color: #0087ff; text-decoration-color: #0087ff\">BatchNormalization</span>)            │                        │               │\n",
       "├─────────────────────────────────┼────────────────────────┼───────────────┤\n",
       "│ spatial_dropout1d_15            │ (<span style=\"color: #00d7ff; text-decoration-color: #00d7ff\">None</span>, <span style=\"color: #00af00; text-decoration-color: #00af00\">69</span>, <span style=\"color: #00af00; text-decoration-color: #00af00\">300</span>)        │             <span style=\"color: #00af00; text-decoration-color: #00af00\">0</span> │\n",
       "│ (<span style=\"color: #0087ff; text-decoration-color: #0087ff\">SpatialDropout1D</span>)              │                        │               │\n",
       "├─────────────────────────────────┼────────────────────────┼───────────────┤\n",
       "│ separable_conv1d_4              │ (<span style=\"color: #00d7ff; text-decoration-color: #00d7ff\">None</span>, <span style=\"color: #00af00; text-decoration-color: #00af00\">16</span>, <span style=\"color: #00af00; text-decoration-color: #00af00\">1000</span>)       │       <span style=\"color: #00af00; text-decoration-color: #00af00\">317,200</span> │\n",
       "│ (<span style=\"color: #0087ff; text-decoration-color: #0087ff\">SeparableConv1D</span>)               │                        │               │\n",
       "├─────────────────────────────────┼────────────────────────┼───────────────┤\n",
       "│ spatial_dropout1d_16            │ (<span style=\"color: #00d7ff; text-decoration-color: #00d7ff\">None</span>, <span style=\"color: #00af00; text-decoration-color: #00af00\">16</span>, <span style=\"color: #00af00; text-decoration-color: #00af00\">1000</span>)       │             <span style=\"color: #00af00; text-decoration-color: #00af00\">0</span> │\n",
       "│ (<span style=\"color: #0087ff; text-decoration-color: #0087ff\">SpatialDropout1D</span>)              │                        │               │\n",
       "├─────────────────────────────────┼────────────────────────┼───────────────┤\n",
       "│ separable_conv1d_5              │ (<span style=\"color: #00d7ff; text-decoration-color: #00d7ff\">None</span>, <span style=\"color: #00af00; text-decoration-color: #00af00\">16</span>, <span style=\"color: #00af00; text-decoration-color: #00af00\">1000</span>)       │     <span style=\"color: #00af00; text-decoration-color: #00af00\">1,055,000</span> │\n",
       "│ (<span style=\"color: #0087ff; text-decoration-color: #0087ff\">SeparableConv1D</span>)               │                        │               │\n",
       "├─────────────────────────────────┼────────────────────────┼───────────────┤\n",
       "│ spatial_dropout1d_17            │ (<span style=\"color: #00d7ff; text-decoration-color: #00d7ff\">None</span>, <span style=\"color: #00af00; text-decoration-color: #00af00\">16</span>, <span style=\"color: #00af00; text-decoration-color: #00af00\">1000</span>)       │             <span style=\"color: #00af00; text-decoration-color: #00af00\">0</span> │\n",
       "│ (<span style=\"color: #0087ff; text-decoration-color: #0087ff\">SpatialDropout1D</span>)              │                        │               │\n",
       "├─────────────────────────────────┼────────────────────────┼───────────────┤\n",
       "│ separable_conv1d_6              │ (<span style=\"color: #00d7ff; text-decoration-color: #00d7ff\">None</span>, <span style=\"color: #00af00; text-decoration-color: #00af00\">16</span>, <span style=\"color: #00af00; text-decoration-color: #00af00\">1000</span>)       │     <span style=\"color: #00af00; text-decoration-color: #00af00\">1,055,000</span> │\n",
       "│ (<span style=\"color: #0087ff; text-decoration-color: #0087ff\">SeparableConv1D</span>)               │                        │               │\n",
       "├─────────────────────────────────┼────────────────────────┼───────────────┤\n",
       "│ spatial_dropout1d_18            │ (<span style=\"color: #00d7ff; text-decoration-color: #00d7ff\">None</span>, <span style=\"color: #00af00; text-decoration-color: #00af00\">16</span>, <span style=\"color: #00af00; text-decoration-color: #00af00\">1000</span>)       │             <span style=\"color: #00af00; text-decoration-color: #00af00\">0</span> │\n",
       "│ (<span style=\"color: #0087ff; text-decoration-color: #0087ff\">SpatialDropout1D</span>)              │                        │               │\n",
       "├─────────────────────────────────┼────────────────────────┼───────────────┤\n",
       "│ time_distributed_10             │ (<span style=\"color: #00d7ff; text-decoration-color: #00d7ff\">None</span>, <span style=\"color: #00af00; text-decoration-color: #00af00\">16</span>, <span style=\"color: #00af00; text-decoration-color: #00af00\">1782</span>)       │     <span style=\"color: #00af00; text-decoration-color: #00af00\">1,783,782</span> │\n",
       "│ (<span style=\"color: #0087ff; text-decoration-color: #0087ff\">TimeDistributed</span>)               │                        │               │\n",
       "└─────────────────────────────────┴────────────────────────┴───────────────┘\n",
       "</pre>\n"
      ],
      "text/plain": [
       "┏━━━━━━━━━━━━━━━━━━━━━━━━━━━━━━━━━┳━━━━━━━━━━━━━━━━━━━━━━━━┳━━━━━━━━━━━━━━━┓\n",
       "┃\u001b[1m \u001b[0m\u001b[1mLayer (type)                   \u001b[0m\u001b[1m \u001b[0m┃\u001b[1m \u001b[0m\u001b[1mOutput Shape          \u001b[0m\u001b[1m \u001b[0m┃\u001b[1m \u001b[0m\u001b[1m      Param #\u001b[0m\u001b[1m \u001b[0m┃\n",
       "┡━━━━━━━━━━━━━━━━━━━━━━━━━━━━━━━━━╇━━━━━━━━━━━━━━━━━━━━━━━━╇━━━━━━━━━━━━━━━┩\n",
       "│ lstm_78 (\u001b[38;5;33mLSTM\u001b[0m)                  │ (\u001b[38;5;45mNone\u001b[0m, \u001b[38;5;34m69\u001b[0m, \u001b[38;5;34m200\u001b[0m)        │     \u001b[38;5;34m1,586,400\u001b[0m │\n",
       "├─────────────────────────────────┼────────────────────────┼───────────────┤\n",
       "│ batch_normalization_78          │ (\u001b[38;5;45mNone\u001b[0m, \u001b[38;5;34m69\u001b[0m, \u001b[38;5;34m200\u001b[0m)        │           \u001b[38;5;34m800\u001b[0m │\n",
       "│ (\u001b[38;5;33mBatchNormalization\u001b[0m)            │                        │               │\n",
       "├─────────────────────────────────┼────────────────────────┼───────────────┤\n",
       "│ spatial_dropout1d_12            │ (\u001b[38;5;45mNone\u001b[0m, \u001b[38;5;34m69\u001b[0m, \u001b[38;5;34m200\u001b[0m)        │             \u001b[38;5;34m0\u001b[0m │\n",
       "│ (\u001b[38;5;33mSpatialDropout1D\u001b[0m)              │                        │               │\n",
       "├─────────────────────────────────┼────────────────────────┼───────────────┤\n",
       "│ lstm_79 (\u001b[38;5;33mLSTM\u001b[0m)                  │ (\u001b[38;5;45mNone\u001b[0m, \u001b[38;5;34m69\u001b[0m, \u001b[38;5;34m300\u001b[0m)        │       \u001b[38;5;34m601,200\u001b[0m │\n",
       "├─────────────────────────────────┼────────────────────────┼───────────────┤\n",
       "│ batch_normalization_79          │ (\u001b[38;5;45mNone\u001b[0m, \u001b[38;5;34m69\u001b[0m, \u001b[38;5;34m300\u001b[0m)        │         \u001b[38;5;34m1,200\u001b[0m │\n",
       "│ (\u001b[38;5;33mBatchNormalization\u001b[0m)            │                        │               │\n",
       "├─────────────────────────────────┼────────────────────────┼───────────────┤\n",
       "│ spatial_dropout1d_13            │ (\u001b[38;5;45mNone\u001b[0m, \u001b[38;5;34m69\u001b[0m, \u001b[38;5;34m300\u001b[0m)        │             \u001b[38;5;34m0\u001b[0m │\n",
       "│ (\u001b[38;5;33mSpatialDropout1D\u001b[0m)              │                        │               │\n",
       "├─────────────────────────────────┼────────────────────────┼───────────────┤\n",
       "│ lstm_80 (\u001b[38;5;33mLSTM\u001b[0m)                  │ (\u001b[38;5;45mNone\u001b[0m, \u001b[38;5;34m69\u001b[0m, \u001b[38;5;34m300\u001b[0m)        │       \u001b[38;5;34m721,200\u001b[0m │\n",
       "├─────────────────────────────────┼────────────────────────┼───────────────┤\n",
       "│ batch_normalization_80          │ (\u001b[38;5;45mNone\u001b[0m, \u001b[38;5;34m69\u001b[0m, \u001b[38;5;34m300\u001b[0m)        │         \u001b[38;5;34m1,200\u001b[0m │\n",
       "│ (\u001b[38;5;33mBatchNormalization\u001b[0m)            │                        │               │\n",
       "├─────────────────────────────────┼────────────────────────┼───────────────┤\n",
       "│ spatial_dropout1d_14            │ (\u001b[38;5;45mNone\u001b[0m, \u001b[38;5;34m69\u001b[0m, \u001b[38;5;34m300\u001b[0m)        │             \u001b[38;5;34m0\u001b[0m │\n",
       "│ (\u001b[38;5;33mSpatialDropout1D\u001b[0m)              │                        │               │\n",
       "├─────────────────────────────────┼────────────────────────┼───────────────┤\n",
       "│ lstm_81 (\u001b[38;5;33mLSTM\u001b[0m)                  │ (\u001b[38;5;45mNone\u001b[0m, \u001b[38;5;34m69\u001b[0m, \u001b[38;5;34m300\u001b[0m)        │       \u001b[38;5;34m721,200\u001b[0m │\n",
       "├─────────────────────────────────┼────────────────────────┼───────────────┤\n",
       "│ batch_normalization_81          │ (\u001b[38;5;45mNone\u001b[0m, \u001b[38;5;34m69\u001b[0m, \u001b[38;5;34m300\u001b[0m)        │         \u001b[38;5;34m1,200\u001b[0m │\n",
       "│ (\u001b[38;5;33mBatchNormalization\u001b[0m)            │                        │               │\n",
       "├─────────────────────────────────┼────────────────────────┼───────────────┤\n",
       "│ spatial_dropout1d_15            │ (\u001b[38;5;45mNone\u001b[0m, \u001b[38;5;34m69\u001b[0m, \u001b[38;5;34m300\u001b[0m)        │             \u001b[38;5;34m0\u001b[0m │\n",
       "│ (\u001b[38;5;33mSpatialDropout1D\u001b[0m)              │                        │               │\n",
       "├─────────────────────────────────┼────────────────────────┼───────────────┤\n",
       "│ separable_conv1d_4              │ (\u001b[38;5;45mNone\u001b[0m, \u001b[38;5;34m16\u001b[0m, \u001b[38;5;34m1000\u001b[0m)       │       \u001b[38;5;34m317,200\u001b[0m │\n",
       "│ (\u001b[38;5;33mSeparableConv1D\u001b[0m)               │                        │               │\n",
       "├─────────────────────────────────┼────────────────────────┼───────────────┤\n",
       "│ spatial_dropout1d_16            │ (\u001b[38;5;45mNone\u001b[0m, \u001b[38;5;34m16\u001b[0m, \u001b[38;5;34m1000\u001b[0m)       │             \u001b[38;5;34m0\u001b[0m │\n",
       "│ (\u001b[38;5;33mSpatialDropout1D\u001b[0m)              │                        │               │\n",
       "├─────────────────────────────────┼────────────────────────┼───────────────┤\n",
       "│ separable_conv1d_5              │ (\u001b[38;5;45mNone\u001b[0m, \u001b[38;5;34m16\u001b[0m, \u001b[38;5;34m1000\u001b[0m)       │     \u001b[38;5;34m1,055,000\u001b[0m │\n",
       "│ (\u001b[38;5;33mSeparableConv1D\u001b[0m)               │                        │               │\n",
       "├─────────────────────────────────┼────────────────────────┼───────────────┤\n",
       "│ spatial_dropout1d_17            │ (\u001b[38;5;45mNone\u001b[0m, \u001b[38;5;34m16\u001b[0m, \u001b[38;5;34m1000\u001b[0m)       │             \u001b[38;5;34m0\u001b[0m │\n",
       "│ (\u001b[38;5;33mSpatialDropout1D\u001b[0m)              │                        │               │\n",
       "├─────────────────────────────────┼────────────────────────┼───────────────┤\n",
       "│ separable_conv1d_6              │ (\u001b[38;5;45mNone\u001b[0m, \u001b[38;5;34m16\u001b[0m, \u001b[38;5;34m1000\u001b[0m)       │     \u001b[38;5;34m1,055,000\u001b[0m │\n",
       "│ (\u001b[38;5;33mSeparableConv1D\u001b[0m)               │                        │               │\n",
       "├─────────────────────────────────┼────────────────────────┼───────────────┤\n",
       "│ spatial_dropout1d_18            │ (\u001b[38;5;45mNone\u001b[0m, \u001b[38;5;34m16\u001b[0m, \u001b[38;5;34m1000\u001b[0m)       │             \u001b[38;5;34m0\u001b[0m │\n",
       "│ (\u001b[38;5;33mSpatialDropout1D\u001b[0m)              │                        │               │\n",
       "├─────────────────────────────────┼────────────────────────┼───────────────┤\n",
       "│ time_distributed_10             │ (\u001b[38;5;45mNone\u001b[0m, \u001b[38;5;34m16\u001b[0m, \u001b[38;5;34m1782\u001b[0m)       │     \u001b[38;5;34m1,783,782\u001b[0m │\n",
       "│ (\u001b[38;5;33mTimeDistributed\u001b[0m)               │                        │               │\n",
       "└─────────────────────────────────┴────────────────────────┴───────────────┘\n"
      ]
     },
     "metadata": {},
     "output_type": "display_data"
    },
    {
     "data": {
      "text/html": [
       "<pre style=\"white-space:pre;overflow-x:auto;line-height:normal;font-family:Menlo,'DejaVu Sans Mono',consolas,'Courier New',monospace\"><span style=\"font-weight: bold\"> Total params: </span><span style=\"color: #00af00; text-decoration-color: #00af00\">7,845,382</span> (29.93 MB)\n",
       "</pre>\n"
      ],
      "text/plain": [
       "\u001b[1m Total params: \u001b[0m\u001b[38;5;34m7,845,382\u001b[0m (29.93 MB)\n"
      ]
     },
     "metadata": {},
     "output_type": "display_data"
    },
    {
     "data": {
      "text/html": [
       "<pre style=\"white-space:pre;overflow-x:auto;line-height:normal;font-family:Menlo,'DejaVu Sans Mono',consolas,'Courier New',monospace\"><span style=\"font-weight: bold\"> Trainable params: </span><span style=\"color: #00af00; text-decoration-color: #00af00\">7,843,182</span> (29.92 MB)\n",
       "</pre>\n"
      ],
      "text/plain": [
       "\u001b[1m Trainable params: \u001b[0m\u001b[38;5;34m7,843,182\u001b[0m (29.92 MB)\n"
      ]
     },
     "metadata": {},
     "output_type": "display_data"
    },
    {
     "data": {
      "text/html": [
       "<pre style=\"white-space:pre;overflow-x:auto;line-height:normal;font-family:Menlo,'DejaVu Sans Mono',consolas,'Courier New',monospace\"><span style=\"font-weight: bold\"> Non-trainable params: </span><span style=\"color: #00af00; text-decoration-color: #00af00\">2,200</span> (8.59 KB)\n",
       "</pre>\n"
      ],
      "text/plain": [
       "\u001b[1m Non-trainable params: \u001b[0m\u001b[38;5;34m2,200\u001b[0m (8.59 KB)\n"
      ]
     },
     "metadata": {},
     "output_type": "display_data"
    },
    {
     "name": "stdout",
     "output_type": "stream",
     "text": [
      "Epoch 1/1000\n",
      "\u001b[1m3/3\u001b[0m \u001b[32m━━━━━━━━━━━━━━━━━━━━\u001b[0m\u001b[37m\u001b[0m \u001b[1m23s\u001b[0m 6s/step - loss: 0.1437 - msle: 0.0342 - val_loss: 0.1220 - val_msle: 0.0178 - learning_rate: 0.0100\n",
      "Epoch 2/1000\n",
      "\u001b[1m3/3\u001b[0m \u001b[32m━━━━━━━━━━━━━━━━━━━━\u001b[0m\u001b[37m\u001b[0m \u001b[1m16s\u001b[0m 5s/step - loss: 0.1252 - msle: 0.0174 - val_loss: 0.1296 - val_msle: 0.0203 - learning_rate: 0.0100\n",
      "Epoch 3/1000\n",
      "\u001b[1m3/3\u001b[0m \u001b[32m━━━━━━━━━━━━━━━━━━━━\u001b[0m\u001b[37m\u001b[0m \u001b[1m18s\u001b[0m 6s/step - loss: 0.1491 - msle: 0.0243 - val_loss: 0.1486 - val_msle: 0.0276 - learning_rate: 0.0100\n",
      "Epoch 4/1000\n"
     ]
    },
    {
     "name": "stderr",
     "output_type": "stream",
     "text": [
      "2024-07-31 13:50:11.552324: W tensorflow/core/kernels/data/prefetch_autotuner.cc:52] Prefetch autotuner tried to allocate 310210560 bytes after encountering the first element of size 310210560 bytes.This already causes the autotune ram budget to be exceeded. To stay within the ram budget, either increase the ram budget or reduce element size\n"
     ]
    },
    {
     "name": "stdout",
     "output_type": "stream",
     "text": [
      "\u001b[1m3/3\u001b[0m \u001b[32m━━━━━━━━━━━━━━━━━━━━\u001b[0m\u001b[37m\u001b[0m \u001b[1m17s\u001b[0m 6s/step - loss: 0.4305 - msle: 0.0950 - val_loss: 0.4148 - val_msle: 0.0730 - learning_rate: 0.0100\n",
      "Epoch 5/1000\n",
      "\u001b[1m3/3\u001b[0m \u001b[32m━━━━━━━━━━━━━━━━━━━━\u001b[0m\u001b[37m\u001b[0m \u001b[1m18s\u001b[0m 6s/step - loss: 0.7015 - msle: 0.1441 - val_loss: 0.2398 - val_msle: 0.0410 - learning_rate: 0.0100\n",
      "Epoch 6/1000\n",
      "\u001b[1m3/3\u001b[0m \u001b[32m━━━━━━━━━━━━━━━━━━━━\u001b[0m\u001b[37m\u001b[0m \u001b[1m18s\u001b[0m 6s/step - loss: 1.1409 - msle: 0.2653 - val_loss: 3.2972 - val_msle: 0.7268 - learning_rate: 0.0100\n",
      "Epoch 7/1000\n",
      "\u001b[1m3/3\u001b[0m \u001b[32m━━━━━━━━━━━━━━━━━━━━\u001b[0m\u001b[37m\u001b[0m \u001b[1m19s\u001b[0m 6s/step - loss: 2.9169 - msle: 0.8017 - val_loss: 0.6440 - val_msle: 0.0878 - learning_rate: 0.0099\n",
      "Epoch 8/1000\n",
      "\u001b[1m3/3\u001b[0m \u001b[32m━━━━━━━━━━━━━━━━━━━━\u001b[0m\u001b[37m\u001b[0m \u001b[1m16s\u001b[0m 5s/step - loss: 1.8949 - msle: 0.4486 - val_loss: 3.6827 - val_msle: 1.1076 - learning_rate: 0.0099\n",
      "Epoch 9/1000\n",
      "\u001b[1m3/3\u001b[0m \u001b[32m━━━━━━━━━━━━━━━━━━━━\u001b[0m\u001b[37m\u001b[0m \u001b[1m16s\u001b[0m 5s/step - loss: 18.5777 - msle: 3.3864 - val_loss: 4.4548 - val_msle: 0.9740 - learning_rate: 0.0099\n",
      "Epoch 10/1000\n",
      "\u001b[1m3/3\u001b[0m \u001b[32m━━━━━━━━━━━━━━━━━━━━\u001b[0m\u001b[37m\u001b[0m \u001b[1m16s\u001b[0m 5s/step - loss: 5.1475 - msle: 1.2494 - val_loss: 23.9691 - val_msle: 4.7453 - learning_rate: 0.0099\n",
      "Epoch 11/1000\n",
      "\u001b[1m3/3\u001b[0m \u001b[32m━━━━━━━━━━━━━━━━━━━━\u001b[0m\u001b[37m\u001b[0m \u001b[1m17s\u001b[0m 6s/step - loss: 23.8421 - msle: 4.3615 - val_loss: 7.4661 - val_msle: 1.7186 - learning_rate: 0.0099\n",
      "Epoch 12/1000\n",
      "\u001b[1m3/3\u001b[0m \u001b[32m━━━━━━━━━━━━━━━━━━━━\u001b[0m\u001b[37m\u001b[0m \u001b[1m17s\u001b[0m 6s/step - loss: 4.2602 - msle: 1.0817 - val_loss: 2.5399 - val_msle: 0.6059 - learning_rate: 0.0099\n",
      "Epoch 13/1000\n",
      "\u001b[1m3/3\u001b[0m \u001b[32m━━━━━━━━━━━━━━━━━━━━\u001b[0m\u001b[37m\u001b[0m \u001b[1m17s\u001b[0m 6s/step - loss: 3.8548 - msle: 1.0559 - val_loss: 1.2016 - val_msle: 0.2705 - learning_rate: 0.0099\n",
      "Epoch 14/1000\n",
      "\u001b[1m3/3\u001b[0m \u001b[32m━━━━━━━━━━━━━━━━━━━━\u001b[0m\u001b[37m\u001b[0m \u001b[1m17s\u001b[0m 6s/step - loss: 1.2225 - msle: 0.3012 - val_loss: 2.7110 - val_msle: 0.6180 - learning_rate: 0.0099\n",
      "Epoch 15/1000\n",
      "\u001b[1m3/3\u001b[0m \u001b[32m━━━━━━━━━━━━━━━━━━━━\u001b[0m\u001b[37m\u001b[0m \u001b[1m17s\u001b[0m 6s/step - loss: 1.4209 - msle: 0.3512 - val_loss: 2.9665 - val_msle: 0.8055 - learning_rate: 0.0099\n",
      "Epoch 16/1000\n",
      "\u001b[1m3/3\u001b[0m \u001b[32m━━━━━━━━━━━━━━━━━━━━\u001b[0m\u001b[37m\u001b[0m \u001b[1m17s\u001b[0m 6s/step - loss: 1.4462 - msle: 0.3762 - val_loss: 1.7097 - val_msle: 0.4168 - learning_rate: 0.0099\n",
      "Epoch 17/1000\n",
      "\u001b[1m3/3\u001b[0m \u001b[32m━━━━━━━━━━━━━━━━━━━━\u001b[0m\u001b[37m\u001b[0m \u001b[1m20s\u001b[0m 5s/step - loss: 0.7093 - msle: 0.1566 - val_loss: 1.5156 - val_msle: 0.3119 - learning_rate: 0.0098\n",
      "Epoch 18/1000\n",
      "\u001b[1m3/3\u001b[0m \u001b[32m━━━━━━━━━━━━━━━━━━━━\u001b[0m\u001b[37m\u001b[0m \u001b[1m17s\u001b[0m 6s/step - loss: 0.6610 - msle: 0.1438 - val_loss: 3.7524 - val_msle: 0.9120 - learning_rate: 0.0098\n",
      "Epoch 19/1000\n",
      "\u001b[1m3/3\u001b[0m \u001b[32m━━━━━━━━━━━━━━━━━━━━\u001b[0m\u001b[37m\u001b[0m \u001b[1m17s\u001b[0m 6s/step - loss: 0.5430 - msle: 0.1092 - val_loss: 1.2083 - val_msle: 0.3226 - learning_rate: 0.0098\n",
      "Epoch 20/1000\n",
      "\u001b[1m3/3\u001b[0m \u001b[32m━━━━━━━━━━━━━━━━━━━━\u001b[0m\u001b[37m\u001b[0m \u001b[1m17s\u001b[0m 5s/step - loss: 0.4331 - msle: 0.0879 - val_loss: 1.7679 - val_msle: 0.5366 - learning_rate: 0.0098\n",
      "Epoch 21/1000\n",
      "\u001b[1m3/3\u001b[0m \u001b[32m━━━━━━━━━━━━━━━━━━━━\u001b[0m\u001b[37m\u001b[0m \u001b[1m17s\u001b[0m 5s/step - loss: 0.2718 - msle: 0.0469 - val_loss: 2.0536 - val_msle: 0.6456 - learning_rate: 0.0098\n",
      "Epoch 22/1000\n",
      "\u001b[1m3/3\u001b[0m \u001b[32m━━━━━━━━━━━━━━━━━━━━\u001b[0m\u001b[37m\u001b[0m \u001b[1m16s\u001b[0m 5s/step - loss: 0.2303 - msle: 0.0386 - val_loss: 1.6121 - val_msle: 0.5249 - learning_rate: 0.0098\n",
      "Epoch 23/1000\n",
      "\u001b[1m3/3\u001b[0m \u001b[32m━━━━━━━━━━━━━━━━━━━━\u001b[0m\u001b[37m\u001b[0m \u001b[1m16s\u001b[0m 5s/step - loss: 0.1836 - msle: 0.0277 - val_loss: 1.3730 - val_msle: 0.4298 - learning_rate: 0.0098\n",
      "Epoch 24/1000\n",
      "\u001b[1m3/3\u001b[0m \u001b[32m━━━━━━━━━━━━━━━━━━━━\u001b[0m\u001b[37m\u001b[0m \u001b[1m16s\u001b[0m 5s/step - loss: 0.1675 - msle: 0.0251 - val_loss: 0.6019 - val_msle: 0.1501 - learning_rate: 0.0098\n",
      "Epoch 25/1000\n",
      "\u001b[1m3/3\u001b[0m \u001b[32m━━━━━━━━━━━━━━━━━━━━\u001b[0m\u001b[37m\u001b[0m \u001b[1m17s\u001b[0m 5s/step - loss: 0.1474 - msle: 0.0201 - val_loss: 0.7304 - val_msle: 0.1560 - learning_rate: 0.0098\n",
      "Epoch 26/1000\n",
      "\u001b[1m3/3\u001b[0m \u001b[32m━━━━━━━━━━━━━━━━━━━━\u001b[0m\u001b[37m\u001b[0m \u001b[1m17s\u001b[0m 5s/step - loss: 0.1374 - msle: 0.0181 - val_loss: 0.3627 - val_msle: 0.0594 - learning_rate: 0.0098\n",
      "Epoch 27/1000\n",
      "\u001b[1m3/3\u001b[0m \u001b[32m━━━━━━━━━━━━━━━━━━━━\u001b[0m\u001b[37m\u001b[0m \u001b[1m17s\u001b[0m 5s/step - loss: 0.1323 - msle: 0.0169 - val_loss: 0.3702 - val_msle: 0.0566 - learning_rate: 0.0097\n",
      "Epoch 28/1000\n",
      "\u001b[1m3/3\u001b[0m \u001b[32m━━━━━━━━━━━━━━━━━━━━\u001b[0m\u001b[37m\u001b[0m \u001b[1m16s\u001b[0m 5s/step - loss: 0.1161 - msle: 0.0146 - val_loss: 0.3404 - val_msle: 0.0522 - learning_rate: 0.0097\n",
      "Epoch 29/1000\n",
      "\u001b[1m3/3\u001b[0m \u001b[32m━━━━━━━━━━━━━━━━━━━━\u001b[0m\u001b[37m\u001b[0m \u001b[1m17s\u001b[0m 5s/step - loss: 0.1101 - msle: 0.0134 - val_loss: 0.2822 - val_msle: 0.0448 - learning_rate: 0.0097\n",
      "Epoch 30/1000\n",
      "\u001b[1m3/3\u001b[0m \u001b[32m━━━━━━━━━━━━━━━━━━━━\u001b[0m\u001b[37m\u001b[0m \u001b[1m17s\u001b[0m 6s/step - loss: 0.0999 - msle: 0.0120 - val_loss: 0.2596 - val_msle: 0.0376 - learning_rate: 0.0097\n",
      "Epoch 31/1000\n"
     ]
    },
    {
     "name": "stderr",
     "output_type": "stream",
     "text": [
      "2024-07-31 13:57:46.814586: W tensorflow/core/kernels/data/prefetch_autotuner.cc:52] Prefetch autotuner tried to allocate 310210560 bytes after encountering the first element of size 310210560 bytes.This already causes the autotune ram budget to be exceeded. To stay within the ram budget, either increase the ram budget or reduce element size\n"
     ]
    },
    {
     "name": "stdout",
     "output_type": "stream",
     "text": [
      "\u001b[1m3/3\u001b[0m \u001b[32m━━━━━━━━━━━━━━━━━━━━\u001b[0m\u001b[37m\u001b[0m \u001b[1m17s\u001b[0m 5s/step - loss: 0.0958 - msle: 0.0115 - val_loss: 0.2225 - val_msle: 0.0322 - learning_rate: 0.0097\n",
      "Epoch 32/1000\n",
      "\u001b[1m3/3\u001b[0m \u001b[32m━━━━━━━━━━━━━━━━━━━━\u001b[0m\u001b[37m\u001b[0m \u001b[1m16s\u001b[0m 5s/step - loss: 0.0928 - msle: 0.0110 - val_loss: 0.2270 - val_msle: 0.0341 - learning_rate: 0.0097\n",
      "Epoch 33/1000\n",
      "\u001b[1m3/3\u001b[0m \u001b[32m━━━━━━━━━━━━━━━━━━━━\u001b[0m\u001b[37m\u001b[0m \u001b[1m17s\u001b[0m 5s/step - loss: 0.0906 - msle: 0.0109 - val_loss: 0.2618 - val_msle: 0.0378 - learning_rate: 0.0097\n",
      "Epoch 34/1000\n",
      "\u001b[1m3/3\u001b[0m \u001b[32m━━━━━━━━━━━━━━━━━━━━\u001b[0m\u001b[37m\u001b[0m \u001b[1m17s\u001b[0m 6s/step - loss: 0.0903 - msle: 0.0108 - val_loss: 0.1795 - val_msle: 0.0284 - learning_rate: 0.0097\n",
      "Epoch 35/1000\n",
      "\u001b[1m3/3\u001b[0m \u001b[32m━━━━━━━━━━━━━━━━━━━━\u001b[0m\u001b[37m\u001b[0m \u001b[1m17s\u001b[0m 6s/step - loss: 0.0878 - msle: 0.0106 - val_loss: 0.1587 - val_msle: 0.0264 - learning_rate: 0.0097\n",
      "Epoch 36/1000\n",
      "\u001b[1m3/3\u001b[0m \u001b[32m━━━━━━━━━━━━━━━━━━━━\u001b[0m\u001b[37m\u001b[0m \u001b[1m19s\u001b[0m 5s/step - loss: 0.0877 - msle: 0.0107 - val_loss: 0.1677 - val_msle: 0.0270 - learning_rate: 0.0097\n",
      "Epoch 37/1000\n",
      "\u001b[1m3/3\u001b[0m \u001b[32m━━━━━━━━━━━━━━━━━━━━\u001b[0m\u001b[37m\u001b[0m \u001b[1m16s\u001b[0m 5s/step - loss: 0.0860 - msle: 0.0105 - val_loss: 0.1870 - val_msle: 0.0286 - learning_rate: 0.0096\n",
      "Epoch 38/1000\n",
      "\u001b[1m3/3\u001b[0m \u001b[32m━━━━━━━━━━━━━━━━━━━━\u001b[0m\u001b[37m\u001b[0m \u001b[1m17s\u001b[0m 5s/step - loss: 0.0856 - msle: 0.0106 - val_loss: 0.1693 - val_msle: 0.0266 - learning_rate: 0.0096\n",
      "Epoch 39/1000\n",
      "\u001b[1m3/3\u001b[0m \u001b[32m━━━━━━━━━━━━━━━━━━━━\u001b[0m\u001b[37m\u001b[0m \u001b[1m17s\u001b[0m 6s/step - loss: 0.0852 - msle: 0.0105 - val_loss: 0.1454 - val_msle: 0.0247 - learning_rate: 0.0096\n",
      "Epoch 40/1000\n",
      "\u001b[1m3/3\u001b[0m \u001b[32m━━━━━━━━━━━━━━━━━━━━\u001b[0m\u001b[37m\u001b[0m \u001b[1m19s\u001b[0m 7s/step - loss: 0.0848 - msle: 0.0106 - val_loss: 0.1545 - val_msle: 0.0250 - learning_rate: 0.0096\n",
      "Epoch 41/1000\n",
      "\u001b[1m3/3\u001b[0m \u001b[32m━━━━━━━━━━━━━━━━━━━━\u001b[0m\u001b[37m\u001b[0m \u001b[1m18s\u001b[0m 6s/step - loss: 0.0849 - msle: 0.0106 - val_loss: 0.1574 - val_msle: 0.0251 - learning_rate: 0.0096\n",
      "Epoch 42/1000\n",
      "\u001b[1m3/3\u001b[0m \u001b[32m━━━━━━━━━━━━━━━━━━━━\u001b[0m\u001b[37m\u001b[0m \u001b[1m17s\u001b[0m 5s/step - loss: 0.0843 - msle: 0.0106 - val_loss: 0.1577 - val_msle: 0.0250 - learning_rate: 0.0096\n",
      "Epoch 43/1000\n",
      "\u001b[1m3/3\u001b[0m \u001b[32m━━━━━━━━━━━━━━━━━━━━\u001b[0m\u001b[37m\u001b[0m \u001b[1m17s\u001b[0m 6s/step - loss: 0.0842 - msle: 0.0106 - val_loss: 0.1426 - val_msle: 0.0239 - learning_rate: 0.0096\n",
      "Epoch 44/1000\n",
      "\u001b[1m3/3\u001b[0m \u001b[32m━━━━━━━━━━━━━━━━━━━━\u001b[0m\u001b[37m\u001b[0m \u001b[1m17s\u001b[0m 6s/step - loss: 0.0841 - msle: 0.0106 - val_loss: 0.1380 - val_msle: 0.0236 - learning_rate: 0.0096\n",
      "Epoch 45/1000\n",
      "\u001b[1m3/3\u001b[0m \u001b[32m━━━━━━━━━━━━━━━━━━━━\u001b[0m\u001b[37m\u001b[0m \u001b[1m17s\u001b[0m 6s/step - loss: 0.0836 - msle: 0.0105 - val_loss: 0.1437 - val_msle: 0.0238 - learning_rate: 0.0096\n",
      "Epoch 46/1000\n",
      "\u001b[1m3/3\u001b[0m \u001b[32m━━━━━━━━━━━━━━━━━━━━\u001b[0m\u001b[37m\u001b[0m \u001b[1m17s\u001b[0m 6s/step - loss: 0.0836 - msle: 0.0105 - val_loss: 0.1417 - val_msle: 0.0235 - learning_rate: 0.0096\n",
      "Epoch 47/1000\n",
      "\u001b[1m3/3\u001b[0m \u001b[32m━━━━━━━━━━━━━━━━━━━━\u001b[0m\u001b[37m\u001b[0m \u001b[1m17s\u001b[0m 6s/step - loss: 0.0832 - msle: 0.0105 - val_loss: 0.1348 - val_msle: 0.0231 - learning_rate: 0.0095\n",
      "Epoch 48/1000\n",
      "\u001b[1m3/3\u001b[0m \u001b[32m━━━━━━━━━━━━━━━━━━━━\u001b[0m\u001b[37m\u001b[0m \u001b[1m17s\u001b[0m 6s/step - loss: 0.0830 - msle: 0.0105 - val_loss: 0.1345 - val_msle: 0.0231 - learning_rate: 0.0095\n",
      "Epoch 49/1000\n",
      "\u001b[1m3/3\u001b[0m \u001b[32m━━━━━━━━━━━━━━━━━━━━\u001b[0m\u001b[37m\u001b[0m \u001b[1m17s\u001b[0m 5s/step - loss: 0.0830 - msle: 0.0105 - val_loss: 0.1321 - val_msle: 0.0229 - learning_rate: 0.0095\n",
      "Epoch 50/1000\n",
      "\u001b[1m3/3\u001b[0m \u001b[32m━━━━━━━━━━━━━━━━━━━━\u001b[0m\u001b[37m\u001b[0m \u001b[1m17s\u001b[0m 5s/step - loss: 0.0828 - msle: 0.0105 - val_loss: 0.1286 - val_msle: 0.0227 - learning_rate: 0.0095\n",
      "Epoch 51/1000\n",
      "\u001b[1m3/3\u001b[0m \u001b[32m━━━━━━━━━━━━━━━━━━━━\u001b[0m\u001b[37m\u001b[0m \u001b[1m17s\u001b[0m 6s/step - loss: 0.0828 - msle: 0.0105 - val_loss: 0.1263 - val_msle: 0.0227 - learning_rate: 0.0095\n",
      "Epoch 52/1000\n",
      "\u001b[1m3/3\u001b[0m \u001b[32m━━━━━━━━━━━━━━━━━━━━\u001b[0m\u001b[37m\u001b[0m \u001b[1m17s\u001b[0m 6s/step - loss: 0.0827 - msle: 0.0105 - val_loss: 0.1275 - val_msle: 0.0226 - learning_rate: 0.0095\n",
      "Epoch 53/1000\n",
      "\u001b[1m3/3\u001b[0m \u001b[32m━━━━━━━━━━━━━━━━━━━━\u001b[0m\u001b[37m\u001b[0m \u001b[1m17s\u001b[0m 5s/step - loss: 0.0827 - msle: 0.0105 - val_loss: 0.1280 - val_msle: 0.0226 - learning_rate: 0.0095\n",
      "Epoch 54/1000\n",
      "\u001b[1m3/3\u001b[0m \u001b[32m━━━━━━━━━━━━━━━━━━━━\u001b[0m\u001b[37m\u001b[0m \u001b[1m17s\u001b[0m 5s/step - loss: 0.0826 - msle: 0.0105 - val_loss: 0.1248 - val_msle: 0.0225 - learning_rate: 0.0095\n",
      "Epoch 55/1000\n",
      "\u001b[1m3/3\u001b[0m \u001b[32m━━━━━━━━━━━━━━━━━━━━\u001b[0m\u001b[37m\u001b[0m \u001b[1m17s\u001b[0m 6s/step - loss: 0.0823 - msle: 0.0104 - val_loss: 0.1245 - val_msle: 0.0224 - learning_rate: 0.0095\n",
      "Epoch 56/1000\n",
      "\u001b[1m3/3\u001b[0m \u001b[32m━━━━━━━━━━━━━━━━━━━━\u001b[0m\u001b[37m\u001b[0m \u001b[1m17s\u001b[0m 6s/step - loss: 0.0824 - msle: 0.0105 - val_loss: 0.1242 - val_msle: 0.0223 - learning_rate: 0.0095\n",
      "Epoch 57/1000\n",
      "\u001b[1m3/3\u001b[0m \u001b[32m━━━━━━━━━━━━━━━━━━━━\u001b[0m\u001b[37m\u001b[0m \u001b[1m17s\u001b[0m 6s/step - loss: 0.0824 - msle: 0.0105 - val_loss: 0.1234 - val_msle: 0.0223 - learning_rate: 0.0094\n",
      "Epoch 58/1000\n",
      "\u001b[1m3/3\u001b[0m \u001b[32m━━━━━━━━━━━━━━━━━━━━\u001b[0m\u001b[37m\u001b[0m \u001b[1m17s\u001b[0m 5s/step - loss: 0.0823 - msle: 0.0105 - val_loss: 0.1244 - val_msle: 0.0223 - learning_rate: 0.0094\n",
      "Epoch 59/1000\n",
      "\u001b[1m3/3\u001b[0m \u001b[32m━━━━━━━━━━━━━━━━━━━━\u001b[0m\u001b[37m\u001b[0m \u001b[1m17s\u001b[0m 6s/step - loss: 0.0820 - msle: 0.0104 - val_loss: 0.1264 - val_msle: 0.0223 - learning_rate: 0.0094\n",
      "Epoch 60/1000\n",
      "\u001b[1m3/3\u001b[0m \u001b[32m━━━━━━━━━━━━━━━━━━━━\u001b[0m\u001b[37m\u001b[0m \u001b[1m17s\u001b[0m 5s/step - loss: 0.0821 - msle: 0.0104 - val_loss: 0.1230 - val_msle: 0.0222 - learning_rate: 0.0094\n",
      "Epoch 61/1000\n",
      "\u001b[1m3/3\u001b[0m \u001b[32m━━━━━━━━━━━━━━━━━━━━\u001b[0m\u001b[37m\u001b[0m \u001b[1m16s\u001b[0m 5s/step - loss: 0.0820 - msle: 0.0104 - val_loss: 0.1219 - val_msle: 0.0222 - learning_rate: 0.0094\n",
      "Epoch 62/1000\n",
      "\u001b[1m3/3\u001b[0m \u001b[32m━━━━━━━━━━━━━━━━━━━━\u001b[0m\u001b[37m\u001b[0m \u001b[1m17s\u001b[0m 5s/step - loss: 0.0819 - msle: 0.0104 - val_loss: 0.1230 - val_msle: 0.0221 - learning_rate: 0.0094\n",
      "Epoch 63/1000\n",
      "\u001b[1m3/3\u001b[0m \u001b[32m━━━━━━━━━━━━━━━━━━━━\u001b[0m\u001b[37m\u001b[0m \u001b[1m17s\u001b[0m 5s/step - loss: 0.0817 - msle: 0.0104 - val_loss: 0.1238 - val_msle: 0.0220 - learning_rate: 0.0094\n",
      "Epoch 64/1000\n",
      "\u001b[1m3/3\u001b[0m \u001b[32m━━━━━━━━━━━━━━━━━━━━\u001b[0m\u001b[37m\u001b[0m \u001b[1m17s\u001b[0m 6s/step - loss: 0.0819 - msle: 0.0104 - val_loss: 0.1200 - val_msle: 0.0219 - learning_rate: 0.0094\n",
      "Epoch 65/1000\n",
      "\u001b[1m3/3\u001b[0m \u001b[32m━━━━━━━━━━━━━━━━━━━━\u001b[0m\u001b[37m\u001b[0m \u001b[1m17s\u001b[0m 6s/step - loss: 0.0817 - msle: 0.0104 - val_loss: 0.1191 - val_msle: 0.0219 - learning_rate: 0.0094\n",
      "Epoch 66/1000\n",
      "\u001b[1m3/3\u001b[0m \u001b[32m━━━━━━━━━━━━━━━━━━━━\u001b[0m\u001b[37m\u001b[0m \u001b[1m17s\u001b[0m 5s/step - loss: 0.0814 - msle: 0.0104 - val_loss: 0.1197 - val_msle: 0.0218 - learning_rate: 0.0094\n",
      "Epoch 67/1000\n",
      "\u001b[1m3/3\u001b[0m \u001b[32m━━━━━━━━━━━━━━━━━━━━\u001b[0m\u001b[37m\u001b[0m \u001b[1m17s\u001b[0m 5s/step - loss: 0.0816 - msle: 0.0104 - val_loss: 0.1209 - val_msle: 0.0217 - learning_rate: 0.0093\n",
      "Epoch 68/1000\n",
      "\u001b[1m3/3\u001b[0m \u001b[32m━━━━━━━━━━━━━━━━━━━━\u001b[0m\u001b[37m\u001b[0m \u001b[1m17s\u001b[0m 5s/step - loss: 0.0816 - msle: 0.0104 - val_loss: 0.1185 - val_msle: 0.0217 - learning_rate: 0.0093\n",
      "Epoch 69/1000\n",
      "\u001b[1m3/3\u001b[0m \u001b[32m━━━━━━━━━━━━━━━━━━━━\u001b[0m\u001b[37m\u001b[0m \u001b[1m17s\u001b[0m 5s/step - loss: 0.0814 - msle: 0.0104 - val_loss: 0.1182 - val_msle: 0.0217 - learning_rate: 0.0093\n",
      "Epoch 70/1000\n",
      "\u001b[1m3/3\u001b[0m \u001b[32m━━━━━━━━━━━━━━━━━━━━\u001b[0m\u001b[37m\u001b[0m \u001b[1m17s\u001b[0m 6s/step - loss: 0.0814 - msle: 0.0104 - val_loss: 0.1199 - val_msle: 0.0215 - learning_rate: 0.0093\n",
      "Epoch 71/1000\n",
      "\u001b[1m3/3\u001b[0m \u001b[32m━━━━━━━━━━━━━━━━━━━━\u001b[0m\u001b[37m\u001b[0m \u001b[1m17s\u001b[0m 6s/step - loss: 0.0814 - msle: 0.0104 - val_loss: 0.1186 - val_msle: 0.0215 - learning_rate: 0.0093\n",
      "Epoch 72/1000\n",
      "\u001b[1m3/3\u001b[0m \u001b[32m━━━━━━━━━━━━━━━━━━━━\u001b[0m\u001b[37m\u001b[0m \u001b[1m17s\u001b[0m 6s/step - loss: 0.0813 - msle: 0.0104 - val_loss: 0.1169 - val_msle: 0.0216 - learning_rate: 0.0093\n",
      "Epoch 73/1000\n",
      "\u001b[1m3/3\u001b[0m \u001b[32m━━━━━━━━━━━━━━━━━━━━\u001b[0m\u001b[37m\u001b[0m \u001b[1m17s\u001b[0m 6s/step - loss: 0.0812 - msle: 0.0104 - val_loss: 0.1174 - val_msle: 0.0215 - learning_rate: 0.0093\n",
      "Epoch 74/1000\n",
      "\u001b[1m3/3\u001b[0m \u001b[32m━━━━━━━━━━━━━━━━━━━━\u001b[0m\u001b[37m\u001b[0m \u001b[1m17s\u001b[0m 6s/step - loss: 0.0811 - msle: 0.0104 - val_loss: 0.1185 - val_msle: 0.0214 - learning_rate: 0.0093\n",
      "Epoch 75/1000\n",
      "\u001b[1m3/3\u001b[0m \u001b[32m━━━━━━━━━━━━━━━━━━━━\u001b[0m\u001b[37m\u001b[0m \u001b[1m17s\u001b[0m 6s/step - loss: 0.0811 - msle: 0.0104 - val_loss: 0.1177 - val_msle: 0.0214 - learning_rate: 0.0093\n",
      "Epoch 76/1000\n",
      "\u001b[1m3/3\u001b[0m \u001b[32m━━━━━━━━━━━━━━━━━━━━\u001b[0m\u001b[37m\u001b[0m \u001b[1m17s\u001b[0m 6s/step - loss: 0.0811 - msle: 0.0104 - val_loss: 0.1166 - val_msle: 0.0215 - learning_rate: 0.0093\n",
      "Epoch 77/1000\n",
      "\u001b[1m3/3\u001b[0m \u001b[32m━━━━━━━━━━━━━━━━━━━━\u001b[0m\u001b[37m\u001b[0m \u001b[1m17s\u001b[0m 6s/step - loss: 0.0811 - msle: 0.0104 - val_loss: 0.1163 - val_msle: 0.0214 - learning_rate: 0.0092\n",
      "Epoch 78/1000\n",
      "\u001b[1m3/3\u001b[0m \u001b[32m━━━━━━━━━━━━━━━━━━━━\u001b[0m\u001b[37m\u001b[0m \u001b[1m17s\u001b[0m 6s/step - loss: 0.0809 - msle: 0.0104 - val_loss: 0.1172 - val_msle: 0.0213 - learning_rate: 0.0092\n",
      "Epoch 79/1000\n",
      "\u001b[1m3/3\u001b[0m \u001b[32m━━━━━━━━━━━━━━━━━━━━\u001b[0m\u001b[37m\u001b[0m \u001b[1m17s\u001b[0m 6s/step - loss: 0.0810 - msle: 0.0104 - val_loss: 0.1157 - val_msle: 0.0214 - learning_rate: 0.0092\n",
      "Epoch 80/1000\n",
      "\u001b[1m3/3\u001b[0m \u001b[32m━━━━━━━━━━━━━━━━━━━━\u001b[0m\u001b[37m\u001b[0m \u001b[1m17s\u001b[0m 6s/step - loss: 0.0810 - msle: 0.0104 - val_loss: 0.1153 - val_msle: 0.0214 - learning_rate: 0.0092\n",
      "Epoch 81/1000\n",
      "\u001b[1m3/3\u001b[0m \u001b[32m━━━━━━━━━━━━━━━━━━━━\u001b[0m\u001b[37m\u001b[0m \u001b[1m17s\u001b[0m 6s/step - loss: 0.0808 - msle: 0.0104 - val_loss: 0.1151 - val_msle: 0.0213 - learning_rate: 0.0092\n",
      "Epoch 82/1000\n",
      "\u001b[1m3/3\u001b[0m \u001b[32m━━━━━━━━━━━━━━━━━━━━\u001b[0m\u001b[37m\u001b[0m \u001b[1m17s\u001b[0m 6s/step - loss: 0.0807 - msle: 0.0104 - val_loss: 0.1155 - val_msle: 0.0213 - learning_rate: 0.0092\n",
      "Epoch 83/1000\n",
      "\u001b[1m3/3\u001b[0m \u001b[32m━━━━━━━━━━━━━━━━━━━━\u001b[0m\u001b[37m\u001b[0m \u001b[1m17s\u001b[0m 6s/step - loss: 0.0808 - msle: 0.0104 - val_loss: 0.1156 - val_msle: 0.0212 - learning_rate: 0.0092\n",
      "Epoch 84/1000\n",
      "\u001b[1m3/3\u001b[0m \u001b[32m━━━━━━━━━━━━━━━━━━━━\u001b[0m\u001b[37m\u001b[0m \u001b[1m17s\u001b[0m 6s/step - loss: 0.0809 - msle: 0.0104 - val_loss: 0.1152 - val_msle: 0.0212 - learning_rate: 0.0092\n",
      "Epoch 85/1000\n",
      "\u001b[1m3/3\u001b[0m \u001b[32m━━━━━━━━━━━━━━━━━━━━\u001b[0m\u001b[37m\u001b[0m \u001b[1m17s\u001b[0m 6s/step - loss: 0.0807 - msle: 0.0104 - val_loss: 0.1148 - val_msle: 0.0212 - learning_rate: 0.0092\n",
      "Epoch 86/1000\n",
      "\u001b[1m3/3\u001b[0m \u001b[32m━━━━━━━━━━━━━━━━━━━━\u001b[0m\u001b[37m\u001b[0m \u001b[1m17s\u001b[0m 5s/step - loss: 0.0806 - msle: 0.0104 - val_loss: 0.1147 - val_msle: 0.0212 - learning_rate: 0.0092\n",
      "Epoch 87/1000\n",
      "\u001b[1m3/3\u001b[0m \u001b[32m━━━━━━━━━━━━━━━━━━━━\u001b[0m\u001b[37m\u001b[0m \u001b[1m17s\u001b[0m 5s/step - loss: 0.0806 - msle: 0.0104 - val_loss: 0.1143 - val_msle: 0.0212 - learning_rate: 0.0091\n",
      "Epoch 88/1000\n",
      "\u001b[1m3/3\u001b[0m \u001b[32m━━━━━━━━━━━━━━━━━━━━\u001b[0m\u001b[37m\u001b[0m \u001b[1m17s\u001b[0m 5s/step - loss: 0.0807 - msle: 0.0104 - val_loss: 0.1141 - val_msle: 0.0212 - learning_rate: 0.0091\n",
      "Epoch 89/1000\n",
      "\u001b[1m3/3\u001b[0m \u001b[32m━━━━━━━━━━━━━━━━━━━━\u001b[0m\u001b[37m\u001b[0m \u001b[1m17s\u001b[0m 5s/step - loss: 0.0806 - msle: 0.0104 - val_loss: 0.1140 - val_msle: 0.0211 - learning_rate: 0.0091\n",
      "Epoch 90/1000\n",
      "\u001b[1m3/3\u001b[0m \u001b[32m━━━━━━━━━━━━━━━━━━━━\u001b[0m\u001b[37m\u001b[0m \u001b[1m17s\u001b[0m 6s/step - loss: 0.0805 - msle: 0.0104 - val_loss: 0.1139 - val_msle: 0.0211 - learning_rate: 0.0091\n",
      "Epoch 91/1000\n",
      "\u001b[1m3/3\u001b[0m \u001b[32m━━━━━━━━━━━━━━━━━━━━\u001b[0m\u001b[37m\u001b[0m \u001b[1m17s\u001b[0m 6s/step - loss: 0.0806 - msle: 0.0104 - val_loss: 0.1141 - val_msle: 0.0210 - learning_rate: 0.0091\n",
      "Epoch 92/1000\n",
      "\u001b[1m3/3\u001b[0m \u001b[32m━━━━━━━━━━━━━━━━━━━━\u001b[0m\u001b[37m\u001b[0m \u001b[1m17s\u001b[0m 6s/step - loss: 0.0807 - msle: 0.0104 - val_loss: 0.1134 - val_msle: 0.0211 - learning_rate: 0.0091\n",
      "Epoch 93/1000\n",
      "\u001b[1m3/3\u001b[0m \u001b[32m━━━━━━━━━━━━━━━━━━━━\u001b[0m\u001b[37m\u001b[0m \u001b[1m17s\u001b[0m 6s/step - loss: 0.0807 - msle: 0.0104 - val_loss: 0.1133 - val_msle: 0.0210 - learning_rate: 0.0091\n",
      "Epoch 94/1000\n",
      "\u001b[1m3/3\u001b[0m \u001b[32m━━━━━━━━━━━━━━━━━━━━\u001b[0m\u001b[37m\u001b[0m \u001b[1m17s\u001b[0m 6s/step - loss: 0.0804 - msle: 0.0104 - val_loss: 0.1133 - val_msle: 0.0210 - learning_rate: 0.0091\n",
      "Epoch 95/1000\n",
      "\u001b[1m3/3\u001b[0m \u001b[32m━━━━━━━━━━━━━━━━━━━━\u001b[0m\u001b[37m\u001b[0m \u001b[1m17s\u001b[0m 6s/step - loss: 0.0804 - msle: 0.0104 - val_loss: 0.1131 - val_msle: 0.0209 - learning_rate: 0.0091\n",
      "Epoch 96/1000\n",
      "\u001b[1m3/3\u001b[0m \u001b[32m━━━━━━━━━━━━━━━━━━━━\u001b[0m\u001b[37m\u001b[0m \u001b[1m17s\u001b[0m 6s/step - loss: 0.0805 - msle: 0.0104 - val_loss: 0.1127 - val_msle: 0.0209 - learning_rate: 0.0091\n",
      "Epoch 97/1000\n",
      "\u001b[1m3/3\u001b[0m \u001b[32m━━━━━━━━━━━━━━━━━━━━\u001b[0m\u001b[37m\u001b[0m \u001b[1m17s\u001b[0m 6s/step - loss: 0.0803 - msle: 0.0104 - val_loss: 0.1124 - val_msle: 0.0209 - learning_rate: 0.0090\n",
      "Epoch 98/1000\n",
      "\u001b[1m3/3\u001b[0m \u001b[32m━━━━━━━━━━━━━━━━━━━━\u001b[0m\u001b[37m\u001b[0m \u001b[1m17s\u001b[0m 6s/step - loss: 0.0802 - msle: 0.0104 - val_loss: 0.1123 - val_msle: 0.0209 - learning_rate: 0.0090\n",
      "Epoch 99/1000\n",
      "\u001b[1m3/3\u001b[0m \u001b[32m━━━━━━━━━━━━━━━━━━━━\u001b[0m\u001b[37m\u001b[0m \u001b[1m17s\u001b[0m 6s/step - loss: 0.0802 - msle: 0.0104 - val_loss: 0.1124 - val_msle: 0.0208 - learning_rate: 0.0090\n",
      "Epoch 100/1000\n",
      "\u001b[1m3/3\u001b[0m \u001b[32m━━━━━━━━━━━━━━━━━━━━\u001b[0m\u001b[37m\u001b[0m \u001b[1m17s\u001b[0m 6s/step - loss: 0.0803 - msle: 0.0104 - val_loss: 0.1124 - val_msle: 0.0208 - learning_rate: 0.0090\n",
      "Epoch 101/1000\n",
      "\u001b[1m3/3\u001b[0m \u001b[32m━━━━━━━━━━━━━━━━━━━━\u001b[0m\u001b[37m\u001b[0m \u001b[1m17s\u001b[0m 6s/step - loss: 0.0804 - msle: 0.0104 - val_loss: 0.1120 - val_msle: 0.0208 - learning_rate: 0.0090\n"
     ]
    }
   ],
   "source": [
    "def split_series(series, n_past, n_future):\n",
    "    X, y = [], []\n",
    "    for window_start in range(len(series)):\n",
    "        past_end = window_start + n_past\n",
    "        future_end = past_end + n_future\n",
    "        if future_end > len(series):\n",
    "            break\n",
    "        X.append(series[window_start:past_end, :])\n",
    "        y.append(series[past_end:future_end, :])\n",
    "    return np.array(X), np.array(y)\n",
    "\n",
    "n_future = 16\n",
    "n_past = scaled_validation_samples.shape[0] - n_future\n",
    "n_features = num_stores_train * num_families_train\n",
    "\n",
    "X_train, y_train = split_series(scaled_train_samples, n_past, n_future)\n",
    "X_val, y_val = split_series(scaled_validation_samples, n_past, n_future)\n",
    "\n",
    "model = Sequential()\n",
    "model.add(layers.LSTM(units=200, return_sequences=True, input_shape=(n_past, n_features)))\n",
    "model.add(layers.BatchNormalization())\n",
    "model.add(layers.SpatialDropout1D(0.2))\n",
    "model.add(layers.LSTM(units=300, return_sequences=True))\n",
    "model.add(layers.BatchNormalization())\n",
    "model.add(layers.SpatialDropout1D(0.2))\n",
    "model.add(layers.LSTM(units=300, return_sequences=True))\n",
    "model.add(layers.BatchNormalization())\n",
    "model.add(layers.SpatialDropout1D(0.2))\n",
    "model.add(layers.LSTM(units=300, return_sequences=True))\n",
    "model.add(layers.BatchNormalization())\n",
    "model.add(layers.SpatialDropout1D(0.2))\n",
    "model.add(layers.SeparableConv1D(filters=1000, kernel_size=(n_past - n_future + 1)))\n",
    "model.add(layers.SpatialDropout1D(0.2))\n",
    "model.add(layers.SeparableConv1D(filters=1000, kernel_size=(n_past - n_future + 1), padding='same'))\n",
    "model.add(layers.SpatialDropout1D(0.2))\n",
    "model.add(layers.SeparableConv1D(filters=1000, kernel_size=(n_past - n_future + 1), padding='same'))\n",
    "model.add(layers.SpatialDropout1D(0.2))\n",
    "model.add(layers.TimeDistributed(layers.Dense(n_features)))\n",
    "\n",
    "model.compile(loss='mae', optimizer=tf.keras.optimizers.Adam(learning_rate=0.001), metrics=['msle'])\n",
    "\n",
    "model.summary()\n",
    "\n",
    "early_stopping = EarlyStopping(monitor='val_msle', min_delta=1e-5, patience=100, restore_best_weights=True)\n",
    "\n",
    "model_history = model.fit(X_train, y_train, validation_data=(X_val, y_val), epochs=epochs, callbacks=[lr_cb, early_stopping], \n",
    "                          batch_size=batch_size, shuffle=False)"
   ]
  },
  {
   "cell_type": "code",
   "execution_count": 48,
   "id": "490023ce",
   "metadata": {
    "execution": {
     "iopub.execute_input": "2024-07-26T08:05:06.218684Z",
     "iopub.status.busy": "2024-07-26T08:05:06.218326Z",
     "iopub.status.idle": "2024-07-26T08:05:06.795815Z",
     "shell.execute_reply": "2024-07-26T08:05:06.794869Z"
    },
    "papermill": {
     "duration": 0.748359,
     "end_time": "2024-07-26T08:05:06.797773",
     "exception": false,
     "start_time": "2024-07-26T08:05:06.049414",
     "status": "completed"
    },
    "tags": []
   },
   "outputs": [
    {
     "name": "stdout",
     "output_type": "stream",
     "text": [
      "WARNING:tensorflow:6 out of the last 6 calls to <function TensorFlowTrainer.make_predict_function.<locals>.one_step_on_data_distributed at 0x7b3b3f011990> triggered tf.function retracing. Tracing is expensive and the excessive number of tracings could be due to (1) creating @tf.function repeatedly in a loop, (2) passing tensors with different shapes, (3) passing Python objects instead of tensors. For (1), please define your @tf.function outside of the loop. For (2), @tf.function has reduce_retracing=True option that can avoid unnecessary retracing. For (3), please refer to https://www.tensorflow.org/guide/function#controlling_retracing and https://www.tensorflow.org/api_docs/python/tf/function for  more details.\n",
      "\u001b[1m1/1\u001b[0m \u001b[32m━━━━━━━━━━━━━━━━━━━━\u001b[0m\u001b[37m\u001b[0m \u001b[1m1s\u001b[0m 627ms/step\n"
     ]
    }
   ],
   "source": [
    "x_test_pred = scaled_validation_samples[-n_past:].reshape((1, n_past, n_features))\n",
    "scaled_y_predict = model.predict(x_test_pred)\n",
    "\n",
    "y_predict = pd.DataFrame(minmax_scaler.inverse_transform(scaled_y_predict.reshape((n_future, n_features))), columns=valid_samples_df.columns)"
   ]
  },
  {
   "cell_type": "code",
   "execution_count": 49,
   "id": "effd2ca0",
   "metadata": {
    "execution": {
     "iopub.execute_input": "2024-07-26T08:05:07.139459Z",
     "iopub.status.busy": "2024-07-26T08:05:07.138630Z",
     "iopub.status.idle": "2024-07-26T08:05:20.854097Z",
     "shell.execute_reply": "2024-07-26T08:05:20.852995Z"
    },
    "papermill": {
     "duration": 13.887426,
     "end_time": "2024-07-26T08:05:20.856161",
     "exception": false,
     "start_time": "2024-07-26T08:05:06.968735",
     "status": "completed"
    },
    "tags": []
   },
   "outputs": [
    {
     "name": "stdout",
     "output_type": "stream",
     "text": [
      "\n",
      "First 5 rows of the data:\n",
      "               sales\n",
      "id                  \n",
      "3000888     5.119675\n",
      "3000889     0.026587\n",
      "3000890     3.812581\n",
      "3000891  1688.847412\n",
      "3000892     0.516341\n"
     ]
    }
   ],
   "source": [
    "pivoted_test = test_data.pivot(index=['date','dcoilwtico','dayofweek'], columns=['store_nbr', 'family'], values='id')\n",
    "\n",
    "for day_ith, day_ith_pred in y_predict.iterrows():\n",
    "    for n_samples_per_day in range(len(day_ith_pred)):\n",
    "        sample_id = pivoted_test.iloc[[day_ith], [n_samples_per_day]].values[0][0]\n",
    "        values = max(0, day_ith_pred.values[n_samples_per_day])\n",
    "        submission.at[sample_id, 'sales'] = max(0, day_ith_pred.values[n_samples_per_day])\n",
    "\n",
    "submission.to_csv('submission.csv')\n",
    "print(\"\\nFirst 5 rows of the data:\")\n",
    "print(submission.head())"
   ]
  }
 ],
 "metadata": {
  "kaggle": {
   "accelerator": "nvidiaTeslaT4",
   "dataSources": [
    {
     "databundleVersionId": 2887556,
     "sourceId": 29781,
     "sourceType": "competition"
    }
   ],
   "dockerImageVersionId": 30732,
   "isGpuEnabled": true,
   "isInternetEnabled": true,
   "language": "python",
   "sourceType": "notebook"
  },
  "kernelspec": {
   "display_name": "Python 3",
   "language": "python",
   "name": "python3"
  },
  "language_info": {
   "codemirror_mode": {
    "name": "ipython",
    "version": 3
   },
   "file_extension": ".py",
   "mimetype": "text/x-python",
   "name": "python",
   "nbconvert_exporter": "python",
   "pygments_lexer": "ipython3",
   "version": "3.10.12"
  },
  "papermill": {
   "default_parameters": {},
   "duration": 286.363123,
   "end_time": "2024-07-26T08:05:24.383801",
   "environment_variables": {},
   "exception": null,
   "input_path": "__notebook__.ipynb",
   "output_path": "__notebook__.ipynb",
   "parameters": {},
   "start_time": "2024-07-26T08:00:38.020678",
   "version": "2.5.0"
  }
 },
 "nbformat": 4,
 "nbformat_minor": 5
}
