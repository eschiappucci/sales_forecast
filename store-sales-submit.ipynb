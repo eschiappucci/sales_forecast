{
 "cells": [
  {
   "cell_type": "code",
   "execution_count": 1,
   "id": "943b2c20",
   "metadata": {
    "_cell_guid": "b1076dfc-b9ad-4769-8c92-a6c4dae69d19",
    "_uuid": "8f2839f25d086af736a60e9eeb907d3b93b6e0e5",
    "execution": {
     "iopub.execute_input": "2024-07-26T08:00:40.913504Z",
     "iopub.status.busy": "2024-07-26T08:00:40.913159Z",
     "iopub.status.idle": "2024-07-26T08:01:00.255565Z",
     "shell.execute_reply": "2024-07-26T08:01:00.254755Z"
    },
    "papermill": {
     "duration": 19.349394,
     "end_time": "2024-07-26T08:01:00.257802",
     "exception": false,
     "start_time": "2024-07-26T08:00:40.908408",
     "status": "completed"
    },
    "tags": []
   },
   "outputs": [
    {
     "name": "stderr",
     "output_type": "stream",
     "text": [
      "2024-08-05 17:14:13.921617: I tensorflow/core/util/port.cc:153] oneDNN custom operations are on. You may see slightly different numerical results due to floating-point round-off errors from different computation orders. To turn them off, set the environment variable `TF_ENABLE_ONEDNN_OPTS=0`.\n",
      "2024-08-05 17:14:13.929426: I external/local_xla/xla/tsl/cuda/cudart_stub.cc:32] Could not find cuda drivers on your machine, GPU will not be used.\n",
      "2024-08-05 17:14:13.996009: I external/local_xla/xla/tsl/cuda/cudart_stub.cc:32] Could not find cuda drivers on your machine, GPU will not be used.\n",
      "2024-08-05 17:14:14.049797: E external/local_xla/xla/stream_executor/cuda/cuda_fft.cc:485] Unable to register cuFFT factory: Attempting to register factory for plugin cuFFT when one has already been registered\n",
      "2024-08-05 17:14:14.103961: E external/local_xla/xla/stream_executor/cuda/cuda_dnn.cc:8454] Unable to register cuDNN factory: Attempting to register factory for plugin cuDNN when one has already been registered\n",
      "2024-08-05 17:14:14.118855: E external/local_xla/xla/stream_executor/cuda/cuda_blas.cc:1452] Unable to register cuBLAS factory: Attempting to register factory for plugin cuBLAS when one has already been registered\n",
      "2024-08-05 17:14:14.212789: I tensorflow/core/platform/cpu_feature_guard.cc:210] This TensorFlow binary is optimized to use available CPU instructions in performance-critical operations.\n",
      "To enable the following instructions: AVX2 AVX512F AVX512_VNNI FMA, in other operations, rebuild TensorFlow with the appropriate compiler flags.\n",
      "2024-08-05 17:14:15.087212: W tensorflow/compiler/tf2tensorrt/utils/py_utils.cc:38] TF-TRT Warning: Could not find TensorRT\n"
     ]
    }
   ],
   "source": [
    "import os\n",
    "import numpy as np\n",
    "import pandas as pd\n",
    "from sklearn.preprocessing import MinMaxScaler, OrdinalEncoder\n",
    "import tensorflow as tf\n",
    "from tensorflow.keras import layers\n",
    "from tensorflow.keras.models import Sequential\n",
    "from tensorflow.keras.callbacks import EarlyStopping\n",
    "import math\n",
    "import keras\n",
    "\n",
    "import matplotlib.pyplot as plt\n",
    "import seaborn as sns\n",
    "import plotly.express as px\n",
    "\n",
    "from scipy.stats import f_oneway\n",
    "\n",
    "import warnings\n",
    "warnings.filterwarnings('ignore')\n",
    "\n",
    "data_path = 'og_data/'\n",
    "\n",
    "train = pd.read_csv(os.path.join(data_path, 'train.csv'), parse_dates=['date'])\n",
    "test = pd.read_csv(os.path.join(data_path, 'test.csv'), parse_dates=['date'])\n",
    "\n",
    "# holidays_events = pd.read_csv(os.path.join(data_path, 'holidays_events.csv'), parse_dates=['date'])\n",
    "oil = pd.read_csv(os.path.join(data_path, 'oil.csv'), parse_dates=['date'])\n",
    "stores = pd.read_csv(os.path.join(data_path, 'stores.csv'))\n",
    "transactions = pd.read_csv(os.path.join(data_path, 'transactions.csv'), parse_dates=['date'])\n",
    "submission = pd.read_csv(os.path.join(data_path, 'sample_submission.csv'), index_col='id')"
   ]
  },
  {
   "cell_type": "code",
   "execution_count": 2,
   "id": "2756fdd1",
   "metadata": {
    "execution": {
     "iopub.execute_input": "2024-07-26T08:01:00.266033Z",
     "iopub.status.busy": "2024-07-26T08:01:00.265752Z",
     "iopub.status.idle": "2024-07-26T08:01:03.324404Z",
     "shell.execute_reply": "2024-07-26T08:01:03.323452Z"
    },
    "papermill": {
     "duration": 3.065145,
     "end_time": "2024-07-26T08:01:03.326557",
     "exception": false,
     "start_time": "2024-07-26T08:01:00.261412",
     "status": "completed"
    },
    "tags": []
   },
   "outputs": [
    {
     "name": "stdout",
     "output_type": "stream",
     "text": [
      "F-statistic: 1506.5585637191425\n",
      "P-value: 0.0\n"
     ]
    },
    {
     "data": {
      "image/png": "[encoded data removed]",
      "text/plain": [
       "<Figure size 432x288 with 1 Axes>"
      ]
     },
     "metadata": {
      "needs_background": "light"
     },
     "output_type": "display_data"
    }
   ],
   "source": [
    "\n",
    "data = pd.read_csv(os.path.join(data_path, 'train.csv'), parse_dates=['date'])\n",
    "\n",
    "data['dayofweek'] = data['date'].dt.dayofweek\n",
    "\n",
    "average_sales = data.groupby('dayofweek')['sales'].mean()\n",
    "\n",
    "average_sales.plot(kind='bar', color='skyblue')\n",
    "plt.title('Average Sales by Day of the Week')\n",
    "plt.xlabel('Day of the Week')\n",
    "plt.ylabel('Average Sales')\n",
    "plt.xticks(range(0, 7), ['Mon', 'Tue', 'Wed', 'Thu', 'Fri', 'Sat', 'Sun'], rotation=0)\n",
    "plt.savefig('../weekday.png')\n",
    "\n",
    "grouped = data.groupby('dayofweek')['sales']\n",
    "\n",
    "sales_data = [group for name, group in grouped]\n",
    "\n",
    "f_stat, p_value = f_oneway(*sales_data)\n",
    "print('F-statistic:', f_stat)\n",
    "print('P-value:', p_value)"
   ]
  },
  {
   "cell_type": "code",
   "execution_count": 3,
   "id": "e2d88fcb",
   "metadata": {},
   "outputs": [],
   "source": [
    "def nan_helper(y):\n",
    "    \"\"\"Helper to handle indices and logical indices of NaNs.\n",
    "\n",
    "    Input:\n",
    "        - y, 1d numpy array with possible NaNs\n",
    "    Output:\n",
    "        - nans, logical indices of NaNs\n",
    "        - index, a function, with signature indices= index(logical_indices),\n",
    "          to convert logical indices of NaNs to 'equivalent' indices\n",
    "    Example:\n",
    "        >>> # linear interpolation of NaNs\n",
    "        >>> nans, x= nan_helper(y)\n",
    "        >>> y[nans]= np.interp(x(nans), x(~nans), y[~nans])\n",
    "    \"\"\"\n",
    "\n",
    "    return np.isnan(y), lambda z: z.nonzero()[0]"
   ]
  },
  {
   "cell_type": "code",
   "execution_count": 4,
   "id": "63a83075",
   "metadata": {},
   "outputs": [],
   "source": [
    "date_min, date_max = train.date.min(), test.date.max()\n",
    "oil['date'] = pd.to_datetime(oil['date'])\n",
    "new_df = pd.DataFrame()\n",
    "new_df['date'] = pd.date_range(date_min, date_max)\n",
    "new_df = pd.merge(new_df,oil, how=\"outer\", on='date')\n",
    "new_df['dcoilwtico'] = new_df['dcoilwtico'].interpolate(method = \"linear\")\n",
    "oil = new_df\n",
    "\n",
    "oil_prices = np.asarray(oil['dcoilwtico'])\n",
    "nans, x= nan_helper(oil_prices)\n",
    "oil_prices[nans]= np.interp(x(nans), x(~nans), oil_prices[~nans])\n",
    "oil['dcoilwtico'] = oil_prices"
   ]
  },
  {
   "cell_type": "code",
   "execution_count": 5,
   "id": "17e1ed22",
   "metadata": {
    "execution": {
     "iopub.execute_input": "2024-07-26T08:01:03.350481Z",
     "iopub.status.busy": "2024-07-26T08:01:03.350216Z",
     "iopub.status.idle": "2024-07-26T08:01:05.696014Z",
     "shell.execute_reply": "2024-07-26T08:01:05.695126Z"
    },
    "papermill": {
     "duration": 2.35348,
     "end_time": "2024-07-26T08:01:05.698750",
     "exception": false,
     "start_time": "2024-07-26T08:01:03.345270",
     "status": "completed"
    },
    "tags": []
   },
   "outputs": [
    {
     "name": "stdout",
     "output_type": "stream",
     "text": [
      "\n",
      "First 5 rows of the original train data:\n",
      "(1599, 1782)\n",
      "store_nbr                          1                                       \\\n",
      "family                            0    1    2       3    4        5    6    \n",
      "date       dcoilwtico dayofweek                                             \n",
      "2013-01-01 93.140000  1          0.0  0.0  0.0     0.0  0.0    0.000  0.0   \n",
      "2013-01-02 93.140000  2          2.0  0.0  2.0  1091.0  0.0  470.652  0.0   \n",
      "2013-01-03 92.970000  3          3.0  0.0  0.0   919.0  0.0  310.655  0.0   \n",
      "2013-01-04 93.120000  4          3.0  0.0  3.0   953.0  0.0  198.366  0.0   \n",
      "2013-01-05 93.146667  5          5.0  0.0  3.0  1160.0  0.0  301.057  0.0   \n",
      "\n",
      "store_nbr                                                ...    9           \\\n",
      "family                               7      8        9   ...   23       24   \n",
      "date       dcoilwtico dayofweek                          ...                 \n",
      "2013-01-01 93.140000  1             0.0    0.0    0.000  ...  0.0    0.000   \n",
      "2013-01-02 93.140000  2          1060.0  579.0  164.069  ...  0.0  374.531   \n",
      "2013-01-03 92.970000  3           836.0  453.0  151.582  ...  0.0  400.863   \n",
      "2013-01-04 93.120000  4           827.0  460.0  131.411  ...  0.0  310.878   \n",
      "2013-01-05 93.146667  5           811.0  464.0  118.613  ...  0.0  447.685   \n",
      "\n",
      "store_nbr                                                                  \\\n",
      "family                              25   26   27       28    29   30   31   \n",
      "date       dcoilwtico dayofweek                                             \n",
      "2013-01-01 93.140000  1            0.0  0.0  0.0    0.000   0.0  0.0  0.0   \n",
      "2013-01-02 93.140000  2          482.0  0.0  0.0  651.292  83.0  0.0  0.0   \n",
      "2013-01-03 92.970000  3          372.0  0.0  0.0  509.496  66.0  0.0  0.0   \n",
      "2013-01-04 93.120000  4          324.0  0.0  0.0  332.672  57.0  0.0  0.0   \n",
      "2013-01-05 93.146667  5          461.0  0.0  0.0  510.919  84.0  0.0  0.0   \n",
      "\n",
      "store_nbr                                \n",
      "family                               32  \n",
      "date       dcoilwtico dayofweek          \n",
      "2013-01-01 93.140000  1           0.000  \n",
      "2013-01-02 93.140000  2          29.214  \n",
      "2013-01-03 92.970000  3          25.000  \n",
      "2013-01-04 93.120000  4          11.000  \n",
      "2013-01-05 93.146667  5          28.361  \n",
      "\n",
      "[5 rows x 1782 columns]\n",
      "\n",
      "First 5 rows of the original train data:\n",
      "(1599, 1782)\n",
      "[[0.         0.         0.         ... 0.         0.         0.        ]\n",
      " [0.11111111 0.         0.16666667 ... 0.         0.         0.48512928]\n",
      " [0.16666667 0.         0.         ... 0.         0.         0.41515136]\n",
      " ...\n",
      " [0.22222222 0.         0.25       ... 0.49480247 0.00920245 0.45467379]\n",
      " [0.05555556 0.         0.08333333 ... 0.59724127 0.02147239 0.65942643]\n",
      " [0.11111111 0.         0.41666667 ... 0.34804615 0.00613497 0.31712582]]\n"
     ]
    }
   ],
   "source": [
    "train_data = train.copy().drop(['onpromotion'], axis=1)\n",
    "test_data = test.copy().drop(['onpromotion'], axis=1)\n",
    "\n",
    "train_data['dayofweek'] = data['date'].dt.dayofweek\n",
    "test_data['dayofweek'] = data['date'].dt.dayofweek\n",
    "\n",
    "train_data = train_data.merge(oil, on='date', how='left')\n",
    "test_data = test_data.merge(oil, on='date', how='left')\n",
    "\n",
    "\n",
    "\n",
    "# Ordinal Encoding for 'family' column\n",
    "ordinal_encoder = OrdinalEncoder(dtype=int)\n",
    "train_data[['family']] = ordinal_encoder.fit_transform(train_data[['family']])\n",
    "test_data[['family']] = ordinal_encoder.transform(test_data[['family']])\n",
    "\n",
    "num_days_train = train[\"date\"].nunique()\n",
    "num_stores_train = train[\"store_nbr\"].nunique()\n",
    "num_families_train = train[\"family\"].nunique()\n",
    "\n",
    "num_days_test = test[\"date\"].nunique()\n",
    "num_stores_test = test[\"store_nbr\"].nunique()\n",
    "num_families_test = test[\"family\"].nunique()\n",
    "\n",
    "pivoted_train = train_data.pivot(index=['date','dcoilwtico','dayofweek'], columns=['store_nbr', 'family'], values='sales')\n",
    "\n",
    "train_samples = int(num_days_train * 0.95)\n",
    "train_samples_df = pivoted_train[:train_samples]\n",
    "valid_samples_df = pivoted_train[train_samples:]\n",
    "\n",
    "print(\"\\nFirst 5 rows of the original train data:\")\n",
    "print(train_samples_df.shape)\n",
    "print(train_samples_df.head())\n",
    "\n",
    "minmax_scaler = MinMaxScaler()\n",
    "minmax_scaler.fit(train_samples_df)\n",
    "scaled_train_samples = minmax_scaler.transform(train_samples_df)\n",
    "scaled_validation_samples = minmax_scaler.transform(valid_samples_df)\n",
    "\n",
    "print(\"\\nFirst 5 rows of the original train data:\")\n",
    "print(scaled_train_samples.shape)\n",
    "print(scaled_train_samples)"
   ]
  },
  {
   "cell_type": "code",
   "execution_count": 6,
   "id": "fccd28a3",
   "metadata": {},
   "outputs": [],
   "source": [
    "a, count, max_var = 0, 0, 20\n",
    "def get_lr_callback(batch_size=8, mode='cos', epochs=10, plot=False):\n",
    "    lr_start, lr_max, lr_min = 1e-2, 1e-5 * batch_size, 1e-4\n",
    "    lr_ramp_ep, lr_sus_ep, lr_decay = 0, 0, 0.75\n",
    "    line_max, line_min = 1, 1e-2\n",
    "    \n",
    "    def lrfn(epoch):  # Learning rate update function\n",
    "        if epoch < lr_ramp_ep: lr = (lr_max - lr_start) / lr_ramp_ep * epoch + lr_start\n",
    "        elif epoch < lr_ramp_ep + lr_sus_ep: lr = lr_max\n",
    "        elif mode == 'exp': lr = (lr_max - lr_min) * lr_decay**(epoch - lr_ramp_ep - lr_sus_ep) + lr_min\n",
    "        elif mode == 'line': \n",
    "            m = (lr_min - lr_start)/epochs\n",
    "            lr = m * epoch + lr_start\n",
    "        elif mode == 'step': lr = lr_max * lr_decay**((epoch - lr_ramp_ep - lr_sus_ep) // 2)\n",
    "        elif mode == 'cos':\n",
    "            decay_total_epochs, decay_epoch_index = (epochs - lr_ramp_ep - lr_sus_ep) /(epochs/20), epoch - lr_ramp_ep - lr_sus_ep\n",
    "            phase = math.pi * decay_epoch_index / decay_total_epochs\n",
    "            m = (line_min - line_max)/epochs\n",
    "            control = m * epoch + line_max\n",
    "            lr = ((lr_start - lr_min) * (1+np.cos(phase)) + lr_min) * control\n",
    "        elif mode == 'var':\n",
    "            global a, count, max_var\n",
    "            m = (lr_min - lr_start)/max_var\n",
    "            if a < max_var:\n",
    "                lr = m * (epoch-count) + lr_start\n",
    "                a += 1\n",
    "            elif a >= max_var:\n",
    "                print(epoch-count)\n",
    "                lr = m * (epoch-count) + lr_start\n",
    "                count += max_var + 1\n",
    "                a = 0\n",
    "        return lr\n",
    "\n",
    "    if plot:  # Plot lr curve if plot is True\n",
    "        plt.figure(figsize=(10, 5))\n",
    "        plt.plot(np.arange(epochs), [lrfn(epoch) for epoch in np.arange(epochs)], marker='o')\n",
    "        plt.xlabel('epoch'); plt.ylabel('lr')\n",
    "        plt.title('LR Scheduler')\n",
    "        plt.show()\n",
    "\n",
    "    return keras.callbacks.LearningRateScheduler(lrfn, verbose=False)  # Create lr callback"
   ]
  },
  {
   "cell_type": "code",
   "execution_count": 7,
   "id": "149d8112",
   "metadata": {},
   "outputs": [
    {
     "data": {
      "image/png": "[encoded data removed]",
      "text/plain": [
       "<Figure size 720x360 with 1 Axes>"
      ]
     },
     "metadata": {
      "needs_background": "light"
     },
     "output_type": "display_data"
    }
   ],
   "source": [
    "batch_size = 512\n",
    "lr_mode = 'line'\n",
    "epochs = 1000 \n",
    "lr_cb = get_lr_callback(batch_size, mode=lr_mode, epochs=epochs, plot=True)"
   ]
  },
  {
   "cell_type": "code",
   "execution_count": 17,
   "id": "ad32ef96",
   "metadata": {
    "execution": {
     "iopub.execute_input": "2024-07-26T08:01:05.709144Z",
     "iopub.status.busy": "2024-07-26T08:01:05.708458Z",
     "iopub.status.idle": "2024-07-26T08:05:05.541386Z",
     "shell.execute_reply": "2024-07-26T08:05:05.540347Z"
    },
    "papermill": {
     "duration": 239.840818,
     "end_time": "2024-07-26T08:05:05.543883",
     "exception": false,
     "start_time": "2024-07-26T08:01:05.703065",
     "status": "completed"
    },
    "tags": []
   },
   "outputs": [
    {
     "data": {
      "text/html": [
       "<pre style=\"white-space:pre;overflow-x:auto;line-height:normal;font-family:Menlo,'DejaVu Sans Mono',consolas,'Courier New',monospace\"><span style=\"font-weight: bold\">Model: \"sequential_9\"</span>\n",
       "</pre>\n"
      ],
      "text/plain": [
       "\u001b[1mModel: \"sequential_9\"\u001b[0m\n"
      ]
     },
     "metadata": {},
     "output_type": "display_data"
    },
    {
     "data": {
      "text/html": [
       "<pre style=\"white-space:pre;overflow-x:auto;line-height:normal;font-family:Menlo,'DejaVu Sans Mono',consolas,'Courier New',monospace\">┏━━━━━━━━━━━━━━━━━━━━━━━━━━━━━━━━━┳━━━━━━━━━━━━━━━━━━━━━━━━┳━━━━━━━━━━━━━━━┓\n",
       "┃<span style=\"font-weight: bold\"> Layer (type)                    </span>┃<span style=\"font-weight: bold\"> Output Shape           </span>┃<span style=\"font-weight: bold\">       Param # </span>┃\n",
       "┡━━━━━━━━━━━━━━━━━━━━━━━━━━━━━━━━━╇━━━━━━━━━━━━━━━━━━━━━━━━╇━━━━━━━━━━━━━━━┩\n",
       "│ separable_conv1d_65             │ (<span style=\"color: #00d7ff; text-decoration-color: #00d7ff\">None</span>, <span style=\"color: #00af00; text-decoration-color: #00af00\">69</span>, <span style=\"color: #00af00; text-decoration-color: #00af00\">512</span>)        │     <span style=\"color: #00af00; text-decoration-color: #00af00\">1,009,124</span> │\n",
       "│ (<span style=\"color: #0087ff; text-decoration-color: #0087ff\">SeparableConv1D</span>)               │                        │               │\n",
       "├─────────────────────────────────┼────────────────────────┼───────────────┤\n",
       "│ separable_conv1d_66             │ (<span style=\"color: #00d7ff; text-decoration-color: #00d7ff\">None</span>, <span style=\"color: #00af00; text-decoration-color: #00af00\">69</span>, <span style=\"color: #00af00; text-decoration-color: #00af00\">512</span>)        │       <span style=\"color: #00af00; text-decoration-color: #00af00\">290,304</span> │\n",
       "│ (<span style=\"color: #0087ff; text-decoration-color: #0087ff\">SeparableConv1D</span>)               │                        │               │\n",
       "├─────────────────────────────────┼────────────────────────┼───────────────┤\n",
       "│ separable_conv1d_67             │ (<span style=\"color: #00d7ff; text-decoration-color: #00d7ff\">None</span>, <span style=\"color: #00af00; text-decoration-color: #00af00\">69</span>, <span style=\"color: #00af00; text-decoration-color: #00af00\">512</span>)        │       <span style=\"color: #00af00; text-decoration-color: #00af00\">290,304</span> │\n",
       "│ (<span style=\"color: #0087ff; text-decoration-color: #0087ff\">SeparableConv1D</span>)               │                        │               │\n",
       "├─────────────────────────────────┼────────────────────────┼───────────────┤\n",
       "│ max_pooling1d_21 (<span style=\"color: #0087ff; text-decoration-color: #0087ff\">MaxPooling1D</span>) │ (<span style=\"color: #00d7ff; text-decoration-color: #00d7ff\">None</span>, <span style=\"color: #00af00; text-decoration-color: #00af00\">69</span>, <span style=\"color: #00af00; text-decoration-color: #00af00\">512</span>)        │             <span style=\"color: #00af00; text-decoration-color: #00af00\">0</span> │\n",
       "├─────────────────────────────────┼────────────────────────┼───────────────┤\n",
       "│ separable_conv1d_68             │ (<span style=\"color: #00d7ff; text-decoration-color: #00d7ff\">None</span>, <span style=\"color: #00af00; text-decoration-color: #00af00\">69</span>, <span style=\"color: #00af00; text-decoration-color: #00af00\">1024</span>)       │       <span style=\"color: #00af00; text-decoration-color: #00af00\">552,960</span> │\n",
       "│ (<span style=\"color: #0087ff; text-decoration-color: #0087ff\">SeparableConv1D</span>)               │                        │               │\n",
       "├─────────────────────────────────┼────────────────────────┼───────────────┤\n",
       "│ separable_conv1d_69             │ (<span style=\"color: #00d7ff; text-decoration-color: #00d7ff\">None</span>, <span style=\"color: #00af00; text-decoration-color: #00af00\">69</span>, <span style=\"color: #00af00; text-decoration-color: #00af00\">1024</span>)       │     <span style=\"color: #00af00; text-decoration-color: #00af00\">1,104,896</span> │\n",
       "│ (<span style=\"color: #0087ff; text-decoration-color: #0087ff\">SeparableConv1D</span>)               │                        │               │\n",
       "├─────────────────────────────────┼────────────────────────┼───────────────┤\n",
       "│ separable_conv1d_70             │ (<span style=\"color: #00d7ff; text-decoration-color: #00d7ff\">None</span>, <span style=\"color: #00af00; text-decoration-color: #00af00\">69</span>, <span style=\"color: #00af00; text-decoration-color: #00af00\">1024</span>)       │     <span style=\"color: #00af00; text-decoration-color: #00af00\">1,104,896</span> │\n",
       "│ (<span style=\"color: #0087ff; text-decoration-color: #0087ff\">SeparableConv1D</span>)               │                        │               │\n",
       "├─────────────────────────────────┼────────────────────────┼───────────────┤\n",
       "│ max_pooling1d_22 (<span style=\"color: #0087ff; text-decoration-color: #0087ff\">MaxPooling1D</span>) │ (<span style=\"color: #00d7ff; text-decoration-color: #00d7ff\">None</span>, <span style=\"color: #00af00; text-decoration-color: #00af00\">69</span>, <span style=\"color: #00af00; text-decoration-color: #00af00\">1024</span>)       │             <span style=\"color: #00af00; text-decoration-color: #00af00\">0</span> │\n",
       "├─────────────────────────────────┼────────────────────────┼───────────────┤\n",
       "│ separable_conv1d_71             │ (<span style=\"color: #00d7ff; text-decoration-color: #00d7ff\">None</span>, <span style=\"color: #00af00; text-decoration-color: #00af00\">69</span>, <span style=\"color: #00af00; text-decoration-color: #00af00\">512</span>)        │       <span style=\"color: #00af00; text-decoration-color: #00af00\">580,096</span> │\n",
       "│ (<span style=\"color: #0087ff; text-decoration-color: #0087ff\">SeparableConv1D</span>)               │                        │               │\n",
       "├─────────────────────────────────┼────────────────────────┼───────────────┤\n",
       "│ separable_conv1d_72             │ (<span style=\"color: #00d7ff; text-decoration-color: #00d7ff\">None</span>, <span style=\"color: #00af00; text-decoration-color: #00af00\">69</span>, <span style=\"color: #00af00; text-decoration-color: #00af00\">512</span>)        │       <span style=\"color: #00af00; text-decoration-color: #00af00\">290,304</span> │\n",
       "│ (<span style=\"color: #0087ff; text-decoration-color: #0087ff\">SeparableConv1D</span>)               │                        │               │\n",
       "├─────────────────────────────────┼────────────────────────┼───────────────┤\n",
       "│ separable_conv1d_73             │ (<span style=\"color: #00d7ff; text-decoration-color: #00d7ff\">None</span>, <span style=\"color: #00af00; text-decoration-color: #00af00\">69</span>, <span style=\"color: #00af00; text-decoration-color: #00af00\">512</span>)        │       <span style=\"color: #00af00; text-decoration-color: #00af00\">290,304</span> │\n",
       "│ (<span style=\"color: #0087ff; text-decoration-color: #0087ff\">SeparableConv1D</span>)               │                        │               │\n",
       "├─────────────────────────────────┼────────────────────────┼───────────────┤\n",
       "│ max_pooling1d_23 (<span style=\"color: #0087ff; text-decoration-color: #0087ff\">MaxPooling1D</span>) │ (<span style=\"color: #00d7ff; text-decoration-color: #00d7ff\">None</span>, <span style=\"color: #00af00; text-decoration-color: #00af00\">69</span>, <span style=\"color: #00af00; text-decoration-color: #00af00\">512</span>)        │             <span style=\"color: #00af00; text-decoration-color: #00af00\">0</span> │\n",
       "├─────────────────────────────────┼────────────────────────┼───────────────┤\n",
       "│ bidirectional_14                │ (<span style=\"color: #00d7ff; text-decoration-color: #00d7ff\">None</span>, <span style=\"color: #00af00; text-decoration-color: #00af00\">69</span>, <span style=\"color: #00af00; text-decoration-color: #00af00\">512</span>)        │     <span style=\"color: #00af00; text-decoration-color: #00af00\">1,574,912</span> │\n",
       "│ (<span style=\"color: #0087ff; text-decoration-color: #0087ff\">Bidirectional</span>)                 │                        │               │\n",
       "├─────────────────────────────────┼────────────────────────┼───────────────┤\n",
       "│ batch_normalization_14          │ (<span style=\"color: #00d7ff; text-decoration-color: #00d7ff\">None</span>, <span style=\"color: #00af00; text-decoration-color: #00af00\">69</span>, <span style=\"color: #00af00; text-decoration-color: #00af00\">512</span>)        │         <span style=\"color: #00af00; text-decoration-color: #00af00\">2,048</span> │\n",
       "│ (<span style=\"color: #0087ff; text-decoration-color: #0087ff\">BatchNormalization</span>)            │                        │               │\n",
       "├─────────────────────────────────┼────────────────────────┼───────────────┤\n",
       "│ dropout_14 (<span style=\"color: #0087ff; text-decoration-color: #0087ff\">Dropout</span>)            │ (<span style=\"color: #00d7ff; text-decoration-color: #00d7ff\">None</span>, <span style=\"color: #00af00; text-decoration-color: #00af00\">69</span>, <span style=\"color: #00af00; text-decoration-color: #00af00\">512</span>)        │             <span style=\"color: #00af00; text-decoration-color: #00af00\">0</span> │\n",
       "├─────────────────────────────────┼────────────────────────┼───────────────┤\n",
       "│ bidirectional_15                │ (<span style=\"color: #00d7ff; text-decoration-color: #00d7ff\">None</span>, <span style=\"color: #00af00; text-decoration-color: #00af00\">69</span>, <span style=\"color: #00af00; text-decoration-color: #00af00\">512</span>)        │     <span style=\"color: #00af00; text-decoration-color: #00af00\">1,574,912</span> │\n",
       "│ (<span style=\"color: #0087ff; text-decoration-color: #0087ff\">Bidirectional</span>)                 │                        │               │\n",
       "├─────────────────────────────────┼────────────────────────┼───────────────┤\n",
       "│ batch_normalization_15          │ (<span style=\"color: #00d7ff; text-decoration-color: #00d7ff\">None</span>, <span style=\"color: #00af00; text-decoration-color: #00af00\">69</span>, <span style=\"color: #00af00; text-decoration-color: #00af00\">512</span>)        │         <span style=\"color: #00af00; text-decoration-color: #00af00\">2,048</span> │\n",
       "│ (<span style=\"color: #0087ff; text-decoration-color: #0087ff\">BatchNormalization</span>)            │                        │               │\n",
       "├─────────────────────────────────┼────────────────────────┼───────────────┤\n",
       "│ dropout_15 (<span style=\"color: #0087ff; text-decoration-color: #0087ff\">Dropout</span>)            │ (<span style=\"color: #00d7ff; text-decoration-color: #00d7ff\">None</span>, <span style=\"color: #00af00; text-decoration-color: #00af00\">69</span>, <span style=\"color: #00af00; text-decoration-color: #00af00\">512</span>)        │             <span style=\"color: #00af00; text-decoration-color: #00af00\">0</span> │\n",
       "├─────────────────────────────────┼────────────────────────┼───────────────┤\n",
       "│ cropping1d_2 (<span style=\"color: #0087ff; text-decoration-color: #0087ff\">Cropping1D</span>)       │ (<span style=\"color: #00d7ff; text-decoration-color: #00d7ff\">None</span>, <span style=\"color: #00af00; text-decoration-color: #00af00\">16</span>, <span style=\"color: #00af00; text-decoration-color: #00af00\">512</span>)        │             <span style=\"color: #00af00; text-decoration-color: #00af00\">0</span> │\n",
       "├─────────────────────────────────┼────────────────────────┼───────────────┤\n",
       "│ time_distributed_12             │ (<span style=\"color: #00d7ff; text-decoration-color: #00d7ff\">None</span>, <span style=\"color: #00af00; text-decoration-color: #00af00\">16</span>, <span style=\"color: #00af00; text-decoration-color: #00af00\">1782</span>)       │       <span style=\"color: #00af00; text-decoration-color: #00af00\">914,166</span> │\n",
       "│ (<span style=\"color: #0087ff; text-decoration-color: #0087ff\">TimeDistributed</span>)               │                        │               │\n",
       "└─────────────────────────────────┴────────────────────────┴───────────────┘\n",
       "</pre>\n"
      ],
      "text/plain": [
       "┏━━━━━━━━━━━━━━━━━━━━━━━━━━━━━━━━━┳━━━━━━━━━━━━━━━━━━━━━━━━┳━━━━━━━━━━━━━━━┓\n",
       "┃\u001b[1m \u001b[0m\u001b[1mLayer (type)                   \u001b[0m\u001b[1m \u001b[0m┃\u001b[1m \u001b[0m\u001b[1mOutput Shape          \u001b[0m\u001b[1m \u001b[0m┃\u001b[1m \u001b[0m\u001b[1m      Param #\u001b[0m\u001b[1m \u001b[0m┃\n",
       "┡━━━━━━━━━━━━━━━━━━━━━━━━━━━━━━━━━╇━━━━━━━━━━━━━━━━━━━━━━━━╇━━━━━━━━━━━━━━━┩\n",
       "│ separable_conv1d_65             │ (\u001b[38;5;45mNone\u001b[0m, \u001b[38;5;34m69\u001b[0m, \u001b[38;5;34m512\u001b[0m)        │     \u001b[38;5;34m1,009,124\u001b[0m │\n",
       "│ (\u001b[38;5;33mSeparableConv1D\u001b[0m)               │                        │               │\n",
       "├─────────────────────────────────┼────────────────────────┼───────────────┤\n",
       "│ separable_conv1d_66             │ (\u001b[38;5;45mNone\u001b[0m, \u001b[38;5;34m69\u001b[0m, \u001b[38;5;34m512\u001b[0m)        │       \u001b[38;5;34m290,304\u001b[0m │\n",
       "│ (\u001b[38;5;33mSeparableConv1D\u001b[0m)               │                        │               │\n",
       "├─────────────────────────────────┼────────────────────────┼───────────────┤\n",
       "│ separable_conv1d_67             │ (\u001b[38;5;45mNone\u001b[0m, \u001b[38;5;34m69\u001b[0m, \u001b[38;5;34m512\u001b[0m)        │       \u001b[38;5;34m290,304\u001b[0m │\n",
       "│ (\u001b[38;5;33mSeparableConv1D\u001b[0m)               │                        │               │\n",
       "├─────────────────────────────────┼────────────────────────┼───────────────┤\n",
       "│ max_pooling1d_21 (\u001b[38;5;33mMaxPooling1D\u001b[0m) │ (\u001b[38;5;45mNone\u001b[0m, \u001b[38;5;34m69\u001b[0m, \u001b[38;5;34m512\u001b[0m)        │             \u001b[38;5;34m0\u001b[0m │\n",
       "├─────────────────────────────────┼────────────────────────┼───────────────┤\n",
       "│ separable_conv1d_68             │ (\u001b[38;5;45mNone\u001b[0m, \u001b[38;5;34m69\u001b[0m, \u001b[38;5;34m1024\u001b[0m)       │       \u001b[38;5;34m552,960\u001b[0m │\n",
       "│ (\u001b[38;5;33mSeparableConv1D\u001b[0m)               │                        │               │\n",
       "├─────────────────────────────────┼────────────────────────┼───────────────┤\n",
       "│ separable_conv1d_69             │ (\u001b[38;5;45mNone\u001b[0m, \u001b[38;5;34m69\u001b[0m, \u001b[38;5;34m1024\u001b[0m)       │     \u001b[38;5;34m1,104,896\u001b[0m │\n",
       "│ (\u001b[38;5;33mSeparableConv1D\u001b[0m)               │                        │               │\n",
       "├─────────────────────────────────┼────────────────────────┼───────────────┤\n",
       "│ separable_conv1d_70             │ (\u001b[38;5;45mNone\u001b[0m, \u001b[38;5;34m69\u001b[0m, \u001b[38;5;34m1024\u001b[0m)       │     \u001b[38;5;34m1,104,896\u001b[0m │\n",
       "│ (\u001b[38;5;33mSeparableConv1D\u001b[0m)               │                        │               │\n",
       "├─────────────────────────────────┼────────────────────────┼───────────────┤\n",
       "│ max_pooling1d_22 (\u001b[38;5;33mMaxPooling1D\u001b[0m) │ (\u001b[38;5;45mNone\u001b[0m, \u001b[38;5;34m69\u001b[0m, \u001b[38;5;34m1024\u001b[0m)       │             \u001b[38;5;34m0\u001b[0m │\n",
       "├─────────────────────────────────┼────────────────────────┼───────────────┤\n",
       "│ separable_conv1d_71             │ (\u001b[38;5;45mNone\u001b[0m, \u001b[38;5;34m69\u001b[0m, \u001b[38;5;34m512\u001b[0m)        │       \u001b[38;5;34m580,096\u001b[0m │\n",
       "│ (\u001b[38;5;33mSeparableConv1D\u001b[0m)               │                        │               │\n",
       "├─────────────────────────────────┼────────────────────────┼───────────────┤\n",
       "│ separable_conv1d_72             │ (\u001b[38;5;45mNone\u001b[0m, \u001b[38;5;34m69\u001b[0m, \u001b[38;5;34m512\u001b[0m)        │       \u001b[38;5;34m290,304\u001b[0m │\n",
       "│ (\u001b[38;5;33mSeparableConv1D\u001b[0m)               │                        │               │\n",
       "├─────────────────────────────────┼────────────────────────┼───────────────┤\n",
       "│ separable_conv1d_73             │ (\u001b[38;5;45mNone\u001b[0m, \u001b[38;5;34m69\u001b[0m, \u001b[38;5;34m512\u001b[0m)        │       \u001b[38;5;34m290,304\u001b[0m │\n",
       "│ (\u001b[38;5;33mSeparableConv1D\u001b[0m)               │                        │               │\n",
       "├─────────────────────────────────┼────────────────────────┼───────────────┤\n",
       "│ max_pooling1d_23 (\u001b[38;5;33mMaxPooling1D\u001b[0m) │ (\u001b[38;5;45mNone\u001b[0m, \u001b[38;5;34m69\u001b[0m, \u001b[38;5;34m512\u001b[0m)        │             \u001b[38;5;34m0\u001b[0m │\n",
       "├─────────────────────────────────┼────────────────────────┼───────────────┤\n",
       "│ bidirectional_14                │ (\u001b[38;5;45mNone\u001b[0m, \u001b[38;5;34m69\u001b[0m, \u001b[38;5;34m512\u001b[0m)        │     \u001b[38;5;34m1,574,912\u001b[0m │\n",
       "│ (\u001b[38;5;33mBidirectional\u001b[0m)                 │                        │               │\n",
       "├─────────────────────────────────┼────────────────────────┼───────────────┤\n",
       "│ batch_normalization_14          │ (\u001b[38;5;45mNone\u001b[0m, \u001b[38;5;34m69\u001b[0m, \u001b[38;5;34m512\u001b[0m)        │         \u001b[38;5;34m2,048\u001b[0m │\n",
       "│ (\u001b[38;5;33mBatchNormalization\u001b[0m)            │                        │               │\n",
       "├─────────────────────────────────┼────────────────────────┼───────────────┤\n",
       "│ dropout_14 (\u001b[38;5;33mDropout\u001b[0m)            │ (\u001b[38;5;45mNone\u001b[0m, \u001b[38;5;34m69\u001b[0m, \u001b[38;5;34m512\u001b[0m)        │             \u001b[38;5;34m0\u001b[0m │\n",
       "├─────────────────────────────────┼────────────────────────┼───────────────┤\n",
       "│ bidirectional_15                │ (\u001b[38;5;45mNone\u001b[0m, \u001b[38;5;34m69\u001b[0m, \u001b[38;5;34m512\u001b[0m)        │     \u001b[38;5;34m1,574,912\u001b[0m │\n",
       "│ (\u001b[38;5;33mBidirectional\u001b[0m)                 │                        │               │\n",
       "├─────────────────────────────────┼────────────────────────┼───────────────┤\n",
       "│ batch_normalization_15          │ (\u001b[38;5;45mNone\u001b[0m, \u001b[38;5;34m69\u001b[0m, \u001b[38;5;34m512\u001b[0m)        │         \u001b[38;5;34m2,048\u001b[0m │\n",
       "│ (\u001b[38;5;33mBatchNormalization\u001b[0m)            │                        │               │\n",
       "├─────────────────────────────────┼────────────────────────┼───────────────┤\n",
       "│ dropout_15 (\u001b[38;5;33mDropout\u001b[0m)            │ (\u001b[38;5;45mNone\u001b[0m, \u001b[38;5;34m69\u001b[0m, \u001b[38;5;34m512\u001b[0m)        │             \u001b[38;5;34m0\u001b[0m │\n",
       "├─────────────────────────────────┼────────────────────────┼───────────────┤\n",
       "│ cropping1d_2 (\u001b[38;5;33mCropping1D\u001b[0m)       │ (\u001b[38;5;45mNone\u001b[0m, \u001b[38;5;34m16\u001b[0m, \u001b[38;5;34m512\u001b[0m)        │             \u001b[38;5;34m0\u001b[0m │\n",
       "├─────────────────────────────────┼────────────────────────┼───────────────┤\n",
       "│ time_distributed_12             │ (\u001b[38;5;45mNone\u001b[0m, \u001b[38;5;34m16\u001b[0m, \u001b[38;5;34m1782\u001b[0m)       │       \u001b[38;5;34m914,166\u001b[0m │\n",
       "│ (\u001b[38;5;33mTimeDistributed\u001b[0m)               │                        │               │\n",
       "└─────────────────────────────────┴────────────────────────┴───────────────┘\n"
      ]
     },
     "metadata": {},
     "output_type": "display_data"
    },
    {
     "data": {
      "text/html": [
       "<pre style=\"white-space:pre;overflow-x:auto;line-height:normal;font-family:Menlo,'DejaVu Sans Mono',consolas,'Courier New',monospace\"><span style=\"font-weight: bold\"> Total params: </span><span style=\"color: #00af00; text-decoration-color: #00af00\">9,581,274</span> (36.55 MB)\n",
       "</pre>\n"
      ],
      "text/plain": [
       "\u001b[1m Total params: \u001b[0m\u001b[38;5;34m9,581,274\u001b[0m (36.55 MB)\n"
      ]
     },
     "metadata": {},
     "output_type": "display_data"
    },
    {
     "data": {
      "text/html": [
       "<pre style=\"white-space:pre;overflow-x:auto;line-height:normal;font-family:Menlo,'DejaVu Sans Mono',consolas,'Courier New',monospace\"><span style=\"font-weight: bold\"> Trainable params: </span><span style=\"color: #00af00; text-decoration-color: #00af00\">9,579,226</span> (36.54 MB)\n",
       "</pre>\n"
      ],
      "text/plain": [
       "\u001b[1m Trainable params: \u001b[0m\u001b[38;5;34m9,579,226\u001b[0m (36.54 MB)\n"
      ]
     },
     "metadata": {},
     "output_type": "display_data"
    },
    {
     "data": {
      "text/html": [
       "<pre style=\"white-space:pre;overflow-x:auto;line-height:normal;font-family:Menlo,'DejaVu Sans Mono',consolas,'Courier New',monospace\"><span style=\"font-weight: bold\"> Non-trainable params: </span><span style=\"color: #00af00; text-decoration-color: #00af00\">2,048</span> (8.00 KB)\n",
       "</pre>\n"
      ],
      "text/plain": [
       "\u001b[1m Non-trainable params: \u001b[0m\u001b[38;5;34m2,048\u001b[0m (8.00 KB)\n"
      ]
     },
     "metadata": {},
     "output_type": "display_data"
    },
    {
     "name": "stdout",
     "output_type": "stream",
     "text": [
      "Epoch 1/1000\n",
      "\u001b[1m3/3\u001b[0m \u001b[32m━━━━━━━━━━━━━━━━━━━━\u001b[0m\u001b[37m\u001b[0m \u001b[1m52s\u001b[0m 12s/step - loss: 0.3694 - msle: 0.0764 - val_loss: 0.2486 - val_msle: 0.0424 - learning_rate: 0.0100\n",
      "Epoch 2/1000\n",
      "\u001b[1m3/3\u001b[0m \u001b[32m━━━━━━━━━━━━━━━━━━━━\u001b[0m\u001b[37m\u001b[0m \u001b[1m44s\u001b[0m 13s/step - loss: 1.3090 - msle: 0.2840 - val_loss: 0.8313 - val_msle: 0.1333 - learning_rate: 0.0100\n",
      "Epoch 3/1000\n",
      "\u001b[1m3/3\u001b[0m \u001b[32m━━━━━━━━━━━━━━━━━━━━\u001b[0m\u001b[37m\u001b[0m \u001b[1m46s\u001b[0m 14s/step - loss: 1.8676 - msle: 0.4225 - val_loss: 0.8864 - val_msle: 0.1118 - learning_rate: 0.0100\n",
      "Epoch 4/1000\n"
     ]
    },
    {
     "name": "stderr",
     "output_type": "stream",
     "text": [
      "2024-08-05 17:21:49.891282: W tensorflow/core/kernels/data/prefetch_autotuner.cc:52] Prefetch autotuner tried to allocate 310210560 bytes after encountering the first element of size 310210560 bytes.This already causes the autotune ram budget to be exceeded. To stay within the ram budget, either increase the ram budget or reduce element size\n"
     ]
    },
    {
     "name": "stdout",
     "output_type": "stream",
     "text": [
      "\u001b[1m3/3\u001b[0m \u001b[32m━━━━━━━━━━━━━━━━━━━━\u001b[0m\u001b[37m\u001b[0m \u001b[1m72s\u001b[0m 13s/step - loss: 1.6697 - msle: 0.3167 - val_loss: 0.7203 - val_msle: 0.0978 - learning_rate: 0.0100\n",
      "Epoch 5/1000\n",
      "\u001b[1m3/3\u001b[0m \u001b[32m━━━━━━━━━━━━━━━━━━━━\u001b[0m\u001b[37m\u001b[0m \u001b[1m34s\u001b[0m 11s/step - loss: 0.7670 - msle: 0.1715 - val_loss: 1.3330 - val_msle: 0.2595 - learning_rate: 0.0100\n",
      "Epoch 6/1000\n",
      "\u001b[1m3/3\u001b[0m \u001b[32m━━━━━━━━━━━━━━━━━━━━\u001b[0m\u001b[37m\u001b[0m \u001b[1m35s\u001b[0m 11s/step - loss: 1.1720 - msle: 0.2717 - val_loss: 1.0394 - val_msle: 0.1961 - learning_rate: 0.0100\n",
      "Epoch 7/1000\n",
      "\u001b[1m3/3\u001b[0m \u001b[32m━━━━━━━━━━━━━━━━━━━━\u001b[0m\u001b[37m\u001b[0m \u001b[1m35s\u001b[0m 12s/step - loss: 1.0132 - msle: 0.2095 - val_loss: 0.4718 - val_msle: 0.0697 - learning_rate: 0.0099\n",
      "Epoch 8/1000\n",
      "\u001b[1m3/3\u001b[0m \u001b[32m━━━━━━━━━━━━━━━━━━━━\u001b[0m\u001b[37m\u001b[0m \u001b[1m35s\u001b[0m 12s/step - loss: 0.8285 - msle: 0.2141 - val_loss: 0.5149 - val_msle: 0.0828 - learning_rate: 0.0099\n",
      "Epoch 9/1000\n",
      "\u001b[1m3/3\u001b[0m \u001b[32m━━━━━━━━━━━━━━━━━━━━\u001b[0m\u001b[37m\u001b[0m \u001b[1m36s\u001b[0m 12s/step - loss: 0.7764 - msle: 0.1964 - val_loss: 0.5244 - val_msle: 0.0792 - learning_rate: 0.0099\n",
      "Epoch 10/1000\n",
      "\u001b[1m3/3\u001b[0m \u001b[32m━━━━━━━━━━━━━━━━━━━━\u001b[0m\u001b[37m\u001b[0m \u001b[1m36s\u001b[0m 12s/step - loss: 0.4995 - msle: 0.1095 - val_loss: 0.5860 - val_msle: 0.0830 - learning_rate: 0.0099\n",
      "Epoch 11/1000\n"
     ]
    },
    {
     "name": "stderr",
     "output_type": "stream",
     "text": [
      "2024-08-05 17:25:56.479018: W tensorflow/core/kernels/data/prefetch_autotuner.cc:52] Prefetch autotuner tried to allocate 310210560 bytes after encountering the first element of size 310210560 bytes.This already causes the autotune ram budget to be exceeded. To stay within the ram budget, either increase the ram budget or reduce element size\n"
     ]
    },
    {
     "name": "stdout",
     "output_type": "stream",
     "text": [
      "\u001b[1m3/3\u001b[0m \u001b[32m━━━━━━━━━━━━━━━━━━━━\u001b[0m\u001b[37m\u001b[0m \u001b[1m36s\u001b[0m 12s/step - loss: 1.0306 - msle: 0.2864 - val_loss: 0.9817 - val_msle: 0.1207 - learning_rate: 0.0099\n",
      "Epoch 12/1000\n"
     ]
    },
    {
     "name": "stderr",
     "output_type": "stream",
     "text": [
      "2024-08-05 17:26:32.009558: W tensorflow/core/kernels/data/prefetch_autotuner.cc:52] Prefetch autotuner tried to allocate 310210560 bytes after encountering the first element of size 310210560 bytes.This already causes the autotune ram budget to be exceeded. To stay within the ram budget, either increase the ram budget or reduce element size\n"
     ]
    },
    {
     "name": "stdout",
     "output_type": "stream",
     "text": [
      "\u001b[1m3/3\u001b[0m \u001b[32m━━━━━━━━━━━━━━━━━━━━\u001b[0m\u001b[37m\u001b[0m \u001b[1m36s\u001b[0m 12s/step - loss: 1.0906 - msle: 0.2441 - val_loss: 0.6365 - val_msle: 0.1068 - learning_rate: 0.0099\n",
      "Epoch 13/1000\n",
      "\u001b[1m3/3\u001b[0m \u001b[32m━━━━━━━━━━━━━━━━━━━━\u001b[0m\u001b[37m\u001b[0m \u001b[1m36s\u001b[0m 12s/step - loss: 0.8050 - msle: 0.1696 - val_loss: 0.6329 - val_msle: 0.0957 - learning_rate: 0.0099\n",
      "Epoch 14/1000\n"
     ]
    },
    {
     "name": "stderr",
     "output_type": "stream",
     "text": [
      "2024-08-05 17:27:43.280659: W tensorflow/core/kernels/data/prefetch_autotuner.cc:52] Prefetch autotuner tried to allocate 310210560 bytes after encountering the first element of size 310210560 bytes.This already causes the autotune ram budget to be exceeded. To stay within the ram budget, either increase the ram budget or reduce element size\n"
     ]
    },
    {
     "name": "stdout",
     "output_type": "stream",
     "text": [
      "\u001b[1m3/3\u001b[0m \u001b[32m━━━━━━━━━━━━━━━━━━━━\u001b[0m\u001b[37m\u001b[0m \u001b[1m36s\u001b[0m 12s/step - loss: 0.9203 - msle: 0.1623 - val_loss: 0.5205 - val_msle: 0.1103 - learning_rate: 0.0099\n",
      "Epoch 15/1000\n"
     ]
    },
    {
     "name": "stderr",
     "output_type": "stream",
     "text": [
      "2024-08-05 17:28:19.296003: W tensorflow/core/kernels/data/prefetch_autotuner.cc:52] Prefetch autotuner tried to allocate 310210560 bytes after encountering the first element of size 310210560 bytes.This already causes the autotune ram budget to be exceeded. To stay within the ram budget, either increase the ram budget or reduce element size\n"
     ]
    },
    {
     "name": "stdout",
     "output_type": "stream",
     "text": [
      "\u001b[1m3/3\u001b[0m \u001b[32m━━━━━━━━━━━━━━━━━━━━\u001b[0m\u001b[37m\u001b[0m \u001b[1m36s\u001b[0m 12s/step - loss: 1.2827 - msle: 0.3352 - val_loss: 0.5080 - val_msle: 0.0885 - learning_rate: 0.0099\n",
      "Epoch 16/1000\n"
     ]
    },
    {
     "name": "stderr",
     "output_type": "stream",
     "text": [
      "2024-08-05 17:28:55.502667: W tensorflow/core/kernels/data/prefetch_autotuner.cc:52] Prefetch autotuner tried to allocate 310210560 bytes after encountering the first element of size 310210560 bytes.This already causes the autotune ram budget to be exceeded. To stay within the ram budget, either increase the ram budget or reduce element size\n"
     ]
    },
    {
     "name": "stdout",
     "output_type": "stream",
     "text": [
      "\u001b[1m3/3\u001b[0m \u001b[32m━━━━━━━━━━━━━━━━━━━━\u001b[0m\u001b[37m\u001b[0m \u001b[1m36s\u001b[0m 12s/step - loss: 1.1696 - msle: 0.2781 - val_loss: 0.7397 - val_msle: 0.1614 - learning_rate: 0.0099\n",
      "Epoch 17/1000\n",
      "\u001b[1m3/3\u001b[0m \u001b[32m━━━━━━━━━━━━━━━━━━━━\u001b[0m\u001b[37m\u001b[0m \u001b[1m36s\u001b[0m 12s/step - loss: 0.5983 - msle: 0.1369 - val_loss: 0.4819 - val_msle: 0.0939 - learning_rate: 0.0098\n",
      "Epoch 18/1000\n",
      "\u001b[1m3/3\u001b[0m \u001b[32m━━━━━━━━━━━━━━━━━━━━\u001b[0m\u001b[37m\u001b[0m \u001b[1m36s\u001b[0m 12s/step - loss: 0.4460 - msle: 0.0942 - val_loss: 0.4255 - val_msle: 0.0733 - learning_rate: 0.0098\n",
      "Epoch 19/1000\n"
     ]
    },
    {
     "name": "stderr",
     "output_type": "stream",
     "text": [
      "2024-08-05 17:30:44.291422: W tensorflow/core/kernels/data/prefetch_autotuner.cc:52] Prefetch autotuner tried to allocate 310210560 bytes after encountering the first element of size 310210560 bytes.This already causes the autotune ram budget to be exceeded. To stay within the ram budget, either increase the ram budget or reduce element size\n"
     ]
    },
    {
     "name": "stdout",
     "output_type": "stream",
     "text": [
      "\u001b[1m3/3\u001b[0m \u001b[32m━━━━━━━━━━━━━━━━━━━━\u001b[0m\u001b[37m\u001b[0m \u001b[1m36s\u001b[0m 12s/step - loss: 0.3742 - msle: 0.0718 - val_loss: 0.3852 - val_msle: 0.0660 - learning_rate: 0.0098\n",
      "Epoch 20/1000\n"
     ]
    },
    {
     "name": "stderr",
     "output_type": "stream",
     "text": [
      "2024-08-05 17:31:20.780429: W tensorflow/core/kernels/data/prefetch_autotuner.cc:52] Prefetch autotuner tried to allocate 310210560 bytes after encountering the first element of size 310210560 bytes.This already causes the autotune ram budget to be exceeded. To stay within the ram budget, either increase the ram budget or reduce element size\n"
     ]
    },
    {
     "name": "stdout",
     "output_type": "stream",
     "text": [
      "\u001b[1m3/3\u001b[0m \u001b[32m━━━━━━━━━━━━━━━━━━━━\u001b[0m\u001b[37m\u001b[0m \u001b[1m36s\u001b[0m 12s/step - loss: 0.3682 - msle: 0.0723 - val_loss: 0.3753 - val_msle: 0.0634 - learning_rate: 0.0098\n",
      "Epoch 21/1000\n"
     ]
    },
    {
     "name": "stderr",
     "output_type": "stream",
     "text": [
      "2024-08-05 17:31:56.975287: W tensorflow/core/kernels/data/prefetch_autotuner.cc:52] Prefetch autotuner tried to allocate 310210560 bytes after encountering the first element of size 310210560 bytes.This already causes the autotune ram budget to be exceeded. To stay within the ram budget, either increase the ram budget or reduce element size\n"
     ]
    },
    {
     "name": "stdout",
     "output_type": "stream",
     "text": [
      "\u001b[1m3/3\u001b[0m \u001b[32m━━━━━━━━━━━━━━━━━━━━\u001b[0m\u001b[37m\u001b[0m \u001b[1m36s\u001b[0m 12s/step - loss: 0.3566 - msle: 0.0708 - val_loss: 0.3407 - val_msle: 0.0580 - learning_rate: 0.0098\n",
      "Epoch 22/1000\n"
     ]
    },
    {
     "name": "stderr",
     "output_type": "stream",
     "text": [
      "2024-08-05 17:32:33.244649: W tensorflow/core/kernels/data/prefetch_autotuner.cc:52] Prefetch autotuner tried to allocate 310210560 bytes after encountering the first element of size 310210560 bytes.This already causes the autotune ram budget to be exceeded. To stay within the ram budget, either increase the ram budget or reduce element size\n"
     ]
    },
    {
     "name": "stdout",
     "output_type": "stream",
     "text": [
      "\u001b[1m3/3\u001b[0m \u001b[32m━━━━━━━━━━━━━━━━━━━━\u001b[0m\u001b[37m\u001b[0m \u001b[1m36s\u001b[0m 12s/step - loss: 0.3103 - msle: 0.0575 - val_loss: 0.3213 - val_msle: 0.0545 - learning_rate: 0.0098\n",
      "Epoch 23/1000\n",
      "\u001b[1m3/3\u001b[0m \u001b[32m━━━━━━━━━━━━━━━━━━━━\u001b[0m\u001b[37m\u001b[0m \u001b[1m36s\u001b[0m 12s/step - loss: 0.2826 - msle: 0.0512 - val_loss: 0.3179 - val_msle: 0.0541 - learning_rate: 0.0098\n",
      "Epoch 24/1000\n",
      "\u001b[1m3/3\u001b[0m \u001b[32m━━━━━━━━━━━━━━━━━━━━\u001b[0m\u001b[37m\u001b[0m \u001b[1m36s\u001b[0m 12s/step - loss: 0.2644 - msle: 0.0471 - val_loss: 0.3153 - val_msle: 0.0541 - learning_rate: 0.0098\n",
      "Epoch 25/1000\n"
     ]
    },
    {
     "name": "stderr",
     "output_type": "stream",
     "text": [
      "2024-08-05 17:34:21.656052: W tensorflow/core/kernels/data/prefetch_autotuner.cc:52] Prefetch autotuner tried to allocate 310210560 bytes after encountering the first element of size 310210560 bytes.This already causes the autotune ram budget to be exceeded. To stay within the ram budget, either increase the ram budget or reduce element size\n"
     ]
    },
    {
     "name": "stdout",
     "output_type": "stream",
     "text": [
      "\u001b[1m3/3\u001b[0m \u001b[32m━━━━━━━━━━━━━━━━━━━━\u001b[0m\u001b[37m\u001b[0m \u001b[1m36s\u001b[0m 12s/step - loss: 0.2444 - msle: 0.0420 - val_loss: 0.3102 - val_msle: 0.0530 - learning_rate: 0.0098\n",
      "Epoch 26/1000\n"
     ]
    },
    {
     "name": "stderr",
     "output_type": "stream",
     "text": [
      "2024-08-05 17:34:57.540217: W tensorflow/core/kernels/data/prefetch_autotuner.cc:52] Prefetch autotuner tried to allocate 310210560 bytes after encountering the first element of size 310210560 bytes.This already causes the autotune ram budget to be exceeded. To stay within the ram budget, either increase the ram budget or reduce element size\n"
     ]
    },
    {
     "name": "stdout",
     "output_type": "stream",
     "text": [
      "\u001b[1m3/3\u001b[0m \u001b[32m━━━━━━━━━━━━━━━━━━━━\u001b[0m\u001b[37m\u001b[0m \u001b[1m36s\u001b[0m 12s/step - loss: 0.2251 - msle: 0.0370 - val_loss: 0.3030 - val_msle: 0.0517 - learning_rate: 0.0098\n",
      "Epoch 27/1000\n",
      "\u001b[1m3/3\u001b[0m \u001b[32m━━━━━━━━━━━━━━━━━━━━\u001b[0m\u001b[37m\u001b[0m \u001b[1m36s\u001b[0m 12s/step - loss: 0.2152 - msle: 0.0355 - val_loss: 0.2903 - val_msle: 0.0490 - learning_rate: 0.0097\n",
      "Epoch 28/1000\n",
      "\u001b[1m3/3\u001b[0m \u001b[32m━━━━━━━━━━━━━━━━━━━━\u001b[0m\u001b[37m\u001b[0m \u001b[1m36s\u001b[0m 12s/step - loss: 0.2024 - msle: 0.0327 - val_loss: 0.2775 - val_msle: 0.0463 - learning_rate: 0.0097\n",
      "Epoch 29/1000\n"
     ]
    },
    {
     "name": "stderr",
     "output_type": "stream",
     "text": [
      "2024-08-05 17:36:45.388451: W tensorflow/core/kernels/data/prefetch_autotuner.cc:52] Prefetch autotuner tried to allocate 310210560 bytes after encountering the first element of size 310210560 bytes.This already causes the autotune ram budget to be exceeded. To stay within the ram budget, either increase the ram budget or reduce element size\n"
     ]
    },
    {
     "name": "stdout",
     "output_type": "stream",
     "text": [
      "\u001b[1m3/3\u001b[0m \u001b[32m━━━━━━━━━━━━━━━━━━━━\u001b[0m\u001b[37m\u001b[0m \u001b[1m36s\u001b[0m 12s/step - loss: 0.1884 - msle: 0.0295 - val_loss: 0.2645 - val_msle: 0.0435 - learning_rate: 0.0097\n",
      "Epoch 30/1000\n"
     ]
    },
    {
     "name": "stderr",
     "output_type": "stream",
     "text": [
      "2024-08-05 17:37:21.121892: W tensorflow/core/kernels/data/prefetch_autotuner.cc:52] Prefetch autotuner tried to allocate 310210560 bytes after encountering the first element of size 310210560 bytes.This already causes the autotune ram budget to be exceeded. To stay within the ram budget, either increase the ram budget or reduce element size\n"
     ]
    },
    {
     "name": "stdout",
     "output_type": "stream",
     "text": [
      "\u001b[1m3/3\u001b[0m \u001b[32m━━━━━━━━━━━━━━━━━━━━\u001b[0m\u001b[37m\u001b[0m \u001b[1m36s\u001b[0m 12s/step - loss: 0.1792 - msle: 0.0275 - val_loss: 0.2508 - val_msle: 0.0407 - learning_rate: 0.0097\n",
      "Epoch 31/1000\n"
     ]
    },
    {
     "name": "stderr",
     "output_type": "stream",
     "text": [
      "2024-08-05 17:37:57.102736: W tensorflow/core/kernels/data/prefetch_autotuner.cc:52] Prefetch autotuner tried to allocate 310210560 bytes after encountering the first element of size 310210560 bytes.This already causes the autotune ram budget to be exceeded. To stay within the ram budget, either increase the ram budget or reduce element size\n"
     ]
    },
    {
     "name": "stdout",
     "output_type": "stream",
     "text": [
      "\u001b[1m3/3\u001b[0m \u001b[32m━━━━━━━━━━━━━━━━━━━━\u001b[0m\u001b[37m\u001b[0m \u001b[1m36s\u001b[0m 12s/step - loss: 0.1711 - msle: 0.0260 - val_loss: 0.2376 - val_msle: 0.0380 - learning_rate: 0.0097\n",
      "Epoch 32/1000\n"
     ]
    },
    {
     "name": "stderr",
     "output_type": "stream",
     "text": [
      "2024-08-05 17:38:32.992366: W tensorflow/core/kernels/data/prefetch_autotuner.cc:52] Prefetch autotuner tried to allocate 310210560 bytes after encountering the first element of size 310210560 bytes.This already causes the autotune ram budget to be exceeded. To stay within the ram budget, either increase the ram budget or reduce element size\n"
     ]
    },
    {
     "name": "stdout",
     "output_type": "stream",
     "text": [
      "\u001b[1m3/3\u001b[0m \u001b[32m━━━━━━━━━━━━━━━━━━━━\u001b[0m\u001b[37m\u001b[0m \u001b[1m36s\u001b[0m 12s/step - loss: 0.1637 - msle: 0.0245 - val_loss: 0.2285 - val_msle: 0.0361 - learning_rate: 0.0097\n",
      "Epoch 33/1000\n"
     ]
    },
    {
     "name": "stderr",
     "output_type": "stream",
     "text": [
      "2024-08-05 17:39:08.987159: W tensorflow/core/kernels/data/prefetch_autotuner.cc:52] Prefetch autotuner tried to allocate 310210560 bytes after encountering the first element of size 310210560 bytes.This already causes the autotune ram budget to be exceeded. To stay within the ram budget, either increase the ram budget or reduce element size\n"
     ]
    },
    {
     "name": "stdout",
     "output_type": "stream",
     "text": [
      "\u001b[1m3/3\u001b[0m \u001b[32m━━━━━━━━━━━━━━━━━━━━\u001b[0m\u001b[37m\u001b[0m \u001b[1m36s\u001b[0m 12s/step - loss: 0.1566 - msle: 0.0230 - val_loss: 0.2192 - val_msle: 0.0343 - learning_rate: 0.0097\n",
      "Epoch 34/1000\n",
      "\u001b[1m3/3\u001b[0m \u001b[32m━━━━━━━━━━━━━━━━━━━━\u001b[0m\u001b[37m\u001b[0m \u001b[1m36s\u001b[0m 12s/step - loss: 0.1494 - msle: 0.0215 - val_loss: 0.2110 - val_msle: 0.0327 - learning_rate: 0.0097\n",
      "Epoch 35/1000\n"
     ]
    },
    {
     "name": "stderr",
     "output_type": "stream",
     "text": [
      "2024-08-05 17:40:20.977716: W tensorflow/core/kernels/data/prefetch_autotuner.cc:52] Prefetch autotuner tried to allocate 310210560 bytes after encountering the first element of size 310210560 bytes.This already causes the autotune ram budget to be exceeded. To stay within the ram budget, either increase the ram budget or reduce element size\n"
     ]
    },
    {
     "name": "stdout",
     "output_type": "stream",
     "text": [
      "\u001b[1m3/3\u001b[0m \u001b[32m━━━━━━━━━━━━━━━━━━━━\u001b[0m\u001b[37m\u001b[0m \u001b[1m36s\u001b[0m 12s/step - loss: 0.2094 - msle: 0.0345 - val_loss: 0.5088 - val_msle: 0.0972 - learning_rate: 0.0097\n",
      "Epoch 36/1000\n"
     ]
    },
    {
     "name": "stderr",
     "output_type": "stream",
     "text": [
      "2024-08-05 17:40:57.379829: W tensorflow/core/kernels/data/prefetch_autotuner.cc:52] Prefetch autotuner tried to allocate 310210560 bytes after encountering the first element of size 310210560 bytes.This already causes the autotune ram budget to be exceeded. To stay within the ram budget, either increase the ram budget or reduce element size\n"
     ]
    },
    {
     "name": "stdout",
     "output_type": "stream",
     "text": [
      "\u001b[1m3/3\u001b[0m \u001b[32m━━━━━━━━━━━━━━━━━━━━\u001b[0m\u001b[37m\u001b[0m \u001b[1m37s\u001b[0m 12s/step - loss: 0.5938 - msle: 0.1365 - val_loss: 0.5590 - val_msle: 0.1200 - learning_rate: 0.0097\n",
      "Epoch 37/1000\n"
     ]
    },
    {
     "name": "stderr",
     "output_type": "stream",
     "text": [
      "2024-08-05 17:41:33.928938: W tensorflow/core/kernels/data/prefetch_autotuner.cc:52] Prefetch autotuner tried to allocate 310210560 bytes after encountering the first element of size 310210560 bytes.This already causes the autotune ram budget to be exceeded. To stay within the ram budget, either increase the ram budget or reduce element size\n"
     ]
    },
    {
     "name": "stdout",
     "output_type": "stream",
     "text": [
      "\u001b[1m3/3\u001b[0m \u001b[32m━━━━━━━━━━━━━━━━━━━━\u001b[0m\u001b[37m\u001b[0m \u001b[1m37s\u001b[0m 12s/step - loss: 0.8089 - msle: 0.2098 - val_loss: 1.1675 - val_msle: 0.2259 - learning_rate: 0.0096\n",
      "Epoch 38/1000\n"
     ]
    },
    {
     "name": "stderr",
     "output_type": "stream",
     "text": [
      "2024-08-05 17:42:10.447927: W tensorflow/core/kernels/data/prefetch_autotuner.cc:52] Prefetch autotuner tried to allocate 310210560 bytes after encountering the first element of size 310210560 bytes.This already causes the autotune ram budget to be exceeded. To stay within the ram budget, either increase the ram budget or reduce element size\n"
     ]
    },
    {
     "name": "stdout",
     "output_type": "stream",
     "text": [
      "\u001b[1m3/3\u001b[0m \u001b[32m━━━━━━━━━━━━━━━━━━━━\u001b[0m\u001b[37m\u001b[0m \u001b[1m37s\u001b[0m 12s/step - loss: 1.2985 - msle: 0.3019 - val_loss: 0.5319 - val_msle: 0.0946 - learning_rate: 0.0096\n",
      "Epoch 39/1000\n",
      "\u001b[1m3/3\u001b[0m \u001b[32m━━━━━━━━━━━━━━━━━━━━\u001b[0m\u001b[37m\u001b[0m \u001b[1m36s\u001b[0m 12s/step - loss: 0.6973 - msle: 0.1391 - val_loss: 0.5273 - val_msle: 0.0901 - learning_rate: 0.0096\n",
      "Epoch 40/1000\n",
      "\u001b[1m3/3\u001b[0m \u001b[32m━━━━━━━━━━━━━━━━━━━━\u001b[0m\u001b[37m\u001b[0m \u001b[1m37s\u001b[0m 12s/step - loss: 0.4403 - msle: 0.0959 - val_loss: 0.4779 - val_msle: 0.0833 - learning_rate: 0.0096\n",
      "Epoch 41/1000\n",
      "\u001b[1m3/3\u001b[0m \u001b[32m━━━━━━━━━━━━━━━━━━━━\u001b[0m\u001b[37m\u001b[0m \u001b[1m36s\u001b[0m 12s/step - loss: 0.2723 - msle: 0.0497 - val_loss: 0.4508 - val_msle: 0.0782 - learning_rate: 0.0096\n",
      "Epoch 42/1000\n",
      "\u001b[1m3/3\u001b[0m \u001b[32m━━━━━━━━━━━━━━━━━━━━\u001b[0m\u001b[37m\u001b[0m \u001b[1m36s\u001b[0m 12s/step - loss: 0.3817 - msle: 0.0570 - val_loss: 0.6598 - val_msle: 0.0958 - learning_rate: 0.0096\n",
      "Epoch 43/1000\n",
      "\u001b[1m3/3\u001b[0m \u001b[32m━━━━━━━━━━━━━━━━━━━━\u001b[0m\u001b[37m\u001b[0m \u001b[1m36s\u001b[0m 12s/step - loss: 0.5487 - msle: 0.0815 - val_loss: 0.4110 - val_msle: 0.0696 - learning_rate: 0.0096\n",
      "Epoch 44/1000\n"
     ]
    },
    {
     "name": "stderr",
     "output_type": "stream",
     "text": [
      "2024-08-05 17:45:48.480172: W tensorflow/core/kernels/data/prefetch_autotuner.cc:52] Prefetch autotuner tried to allocate 310210560 bytes after encountering the first element of size 310210560 bytes.This already causes the autotune ram budget to be exceeded. To stay within the ram budget, either increase the ram budget or reduce element size\n"
     ]
    },
    {
     "name": "stdout",
     "output_type": "stream",
     "text": [
      "\u001b[1m3/3\u001b[0m \u001b[32m━━━━━━━━━━━━━━━━━━━━\u001b[0m\u001b[37m\u001b[0m \u001b[1m36s\u001b[0m 12s/step - loss: 0.4668 - msle: 0.1175 - val_loss: 0.4767 - val_msle: 0.0773 - learning_rate: 0.0096\n",
      "Epoch 45/1000\n",
      "\u001b[1m3/3\u001b[0m \u001b[32m━━━━━━━━━━━━━━━━━━━━\u001b[0m\u001b[37m\u001b[0m \u001b[1m36s\u001b[0m 12s/step - loss: 0.3437 - msle: 0.0631 - val_loss: 0.3994 - val_msle: 0.0618 - learning_rate: 0.0096\n",
      "Epoch 46/1000\n",
      "\u001b[1m3/3\u001b[0m \u001b[32m━━━━━━━━━━━━━━━━━━━━\u001b[0m\u001b[37m\u001b[0m \u001b[1m36s\u001b[0m 12s/step - loss: 0.3134 - msle: 0.0615 - val_loss: 0.3891 - val_msle: 0.0623 - learning_rate: 0.0096\n",
      "Epoch 47/1000\n",
      "\u001b[1m3/3\u001b[0m \u001b[32m━━━━━━━━━━━━━━━━━━━━\u001b[0m\u001b[37m\u001b[0m \u001b[1m36s\u001b[0m 12s/step - loss: 0.2692 - msle: 0.0478 - val_loss: 0.4114 - val_msle: 0.0643 - learning_rate: 0.0095\n",
      "Epoch 48/1000\n",
      "\u001b[1m3/3\u001b[0m \u001b[32m━━━━━━━━━━━━━━━━━━━━\u001b[0m\u001b[37m\u001b[0m \u001b[1m36s\u001b[0m 12s/step - loss: 0.3986 - msle: 0.0737 - val_loss: 0.3231 - val_msle: 0.0532 - learning_rate: 0.0095\n",
      "Epoch 49/1000\n",
      "\u001b[1m3/3\u001b[0m \u001b[32m━━━━━━━━━━━━━━━━━━━━\u001b[0m\u001b[37m\u001b[0m \u001b[1m36s\u001b[0m 12s/step - loss: 0.3585 - msle: 0.0737 - val_loss: 0.3111 - val_msle: 0.0509 - learning_rate: 0.0095\n",
      "Epoch 50/1000\n"
     ]
    },
    {
     "name": "stderr",
     "output_type": "stream",
     "text": [
      "2024-08-05 17:49:24.091927: W tensorflow/core/kernels/data/prefetch_autotuner.cc:52] Prefetch autotuner tried to allocate 310210560 bytes after encountering the first element of size 310210560 bytes.This already causes the autotune ram budget to be exceeded. To stay within the ram budget, either increase the ram budget or reduce element size\n"
     ]
    },
    {
     "name": "stdout",
     "output_type": "stream",
     "text": [
      "\u001b[1m3/3\u001b[0m \u001b[32m━━━━━━━━━━━━━━━━━━━━\u001b[0m\u001b[37m\u001b[0m \u001b[1m36s\u001b[0m 12s/step - loss: 0.3347 - msle: 0.0635 - val_loss: 0.3457 - val_msle: 0.0540 - learning_rate: 0.0095\n",
      "Epoch 51/1000\n",
      "\u001b[1m3/3\u001b[0m \u001b[32m━━━━━━━━━━━━━━━━━━━━\u001b[0m\u001b[37m\u001b[0m \u001b[1m37s\u001b[0m 12s/step - loss: 0.3339 - msle: 0.0633 - val_loss: 0.3398 - val_msle: 0.0551 - learning_rate: 0.0095\n",
      "Epoch 52/1000\n"
     ]
    },
    {
     "name": "stderr",
     "output_type": "stream",
     "text": [
      "2024-08-05 17:50:37.033562: W tensorflow/core/kernels/data/prefetch_autotuner.cc:52] Prefetch autotuner tried to allocate 310210560 bytes after encountering the first element of size 310210560 bytes.This already causes the autotune ram budget to be exceeded. To stay within the ram budget, either increase the ram budget or reduce element size\n"
     ]
    },
    {
     "name": "stdout",
     "output_type": "stream",
     "text": [
      "\u001b[1m3/3\u001b[0m \u001b[32m━━━━━━━━━━━━━━━━━━━━\u001b[0m\u001b[37m\u001b[0m \u001b[1m37s\u001b[0m 12s/step - loss: 0.3254 - msle: 0.0599 - val_loss: 0.3286 - val_msle: 0.0537 - learning_rate: 0.0095\n",
      "Epoch 53/1000\n"
     ]
    },
    {
     "name": "stderr",
     "output_type": "stream",
     "text": [
      "2024-08-05 17:51:13.550612: W tensorflow/core/kernels/data/prefetch_autotuner.cc:52] Prefetch autotuner tried to allocate 310210560 bytes after encountering the first element of size 310210560 bytes.This already causes the autotune ram budget to be exceeded. To stay within the ram budget, either increase the ram budget or reduce element size\n"
     ]
    },
    {
     "name": "stdout",
     "output_type": "stream",
     "text": [
      "\u001b[1m3/3\u001b[0m \u001b[32m━━━━━━━━━━━━━━━━━━━━\u001b[0m\u001b[37m\u001b[0m \u001b[1m36s\u001b[0m 12s/step - loss: 0.3036 - msle: 0.0574 - val_loss: 0.3589 - val_msle: 0.0576 - learning_rate: 0.0095\n",
      "Epoch 54/1000\n"
     ]
    },
    {
     "name": "stderr",
     "output_type": "stream",
     "text": [
      "2024-08-05 17:51:49.827346: W tensorflow/core/kernels/data/prefetch_autotuner.cc:52] Prefetch autotuner tried to allocate 310210560 bytes after encountering the first element of size 310210560 bytes.This already causes the autotune ram budget to be exceeded. To stay within the ram budget, either increase the ram budget or reduce element size\n"
     ]
    },
    {
     "name": "stdout",
     "output_type": "stream",
     "text": [
      "\u001b[1m3/3\u001b[0m \u001b[32m━━━━━━━━━━━━━━━━━━━━\u001b[0m\u001b[37m\u001b[0m \u001b[1m36s\u001b[0m 12s/step - loss: 0.2693 - msle: 0.0475 - val_loss: 0.3714 - val_msle: 0.0592 - learning_rate: 0.0095\n",
      "Epoch 55/1000\n"
     ]
    },
    {
     "name": "stderr",
     "output_type": "stream",
     "text": [
      "2024-08-05 17:52:26.200420: W tensorflow/core/kernels/data/prefetch_autotuner.cc:52] Prefetch autotuner tried to allocate 310210560 bytes after encountering the first element of size 310210560 bytes.This already causes the autotune ram budget to be exceeded. To stay within the ram budget, either increase the ram budget or reduce element size\n"
     ]
    },
    {
     "name": "stdout",
     "output_type": "stream",
     "text": [
      "\u001b[1m3/3\u001b[0m \u001b[32m━━━━━━━━━━━━━━━━━━━━\u001b[0m\u001b[37m\u001b[0m \u001b[1m36s\u001b[0m 12s/step - loss: 0.2035 - msle: 0.0322 - val_loss: 0.4936 - val_msle: 0.0801 - learning_rate: 0.0095\n",
      "Epoch 56/1000\n"
     ]
    },
    {
     "name": "stderr",
     "output_type": "stream",
     "text": [
      "2024-08-05 17:53:02.687717: W tensorflow/core/kernels/data/prefetch_autotuner.cc:52] Prefetch autotuner tried to allocate 310210560 bytes after encountering the first element of size 310210560 bytes.This already causes the autotune ram budget to be exceeded. To stay within the ram budget, either increase the ram budget or reduce element size\n"
     ]
    },
    {
     "name": "stdout",
     "output_type": "stream",
     "text": [
      "\u001b[1m3/3\u001b[0m \u001b[32m━━━━━━━━━━━━━━━━━━━━\u001b[0m\u001b[37m\u001b[0m \u001b[1m36s\u001b[0m 12s/step - loss: 0.3972 - msle: 0.0778 - val_loss: 0.5679 - val_msle: 0.0774 - learning_rate: 0.0095\n",
      "Epoch 57/1000\n"
     ]
    },
    {
     "name": "stderr",
     "output_type": "stream",
     "text": [
      "2024-08-05 17:53:38.625341: W tensorflow/core/kernels/data/prefetch_autotuner.cc:52] Prefetch autotuner tried to allocate 310210560 bytes after encountering the first element of size 310210560 bytes.This already causes the autotune ram budget to be exceeded. To stay within the ram budget, either increase the ram budget or reduce element size\n"
     ]
    },
    {
     "name": "stdout",
     "output_type": "stream",
     "text": [
      "\u001b[1m3/3\u001b[0m \u001b[32m━━━━━━━━━━━━━━━━━━━━\u001b[0m\u001b[37m\u001b[0m \u001b[1m36s\u001b[0m 12s/step - loss: 0.4909 - msle: 0.0767 - val_loss: 0.2886 - val_msle: 0.0472 - learning_rate: 0.0094\n",
      "Epoch 58/1000\n"
     ]
    },
    {
     "name": "stderr",
     "output_type": "stream",
     "text": [
      "2024-08-05 17:54:14.430784: W tensorflow/core/kernels/data/prefetch_autotuner.cc:52] Prefetch autotuner tried to allocate 310210560 bytes after encountering the first element of size 310210560 bytes.This already causes the autotune ram budget to be exceeded. To stay within the ram budget, either increase the ram budget or reduce element size\n"
     ]
    },
    {
     "name": "stdout",
     "output_type": "stream",
     "text": [
      "\u001b[1m3/3\u001b[0m \u001b[32m━━━━━━━━━━━━━━━━━━━━\u001b[0m\u001b[37m\u001b[0m \u001b[1m36s\u001b[0m 12s/step - loss: 0.3354 - msle: 0.0623 - val_loss: 0.3934 - val_msle: 0.0592 - learning_rate: 0.0094\n",
      "Epoch 59/1000\n"
     ]
    },
    {
     "name": "stderr",
     "output_type": "stream",
     "text": [
      "2024-08-05 17:54:50.417338: W tensorflow/core/kernels/data/prefetch_autotuner.cc:52] Prefetch autotuner tried to allocate 310210560 bytes after encountering the first element of size 310210560 bytes.This already causes the autotune ram budget to be exceeded. To stay within the ram budget, either increase the ram budget or reduce element size\n"
     ]
    },
    {
     "name": "stdout",
     "output_type": "stream",
     "text": [
      "\u001b[1m3/3\u001b[0m \u001b[32m━━━━━━━━━━━━━━━━━━━━\u001b[0m\u001b[37m\u001b[0m \u001b[1m36s\u001b[0m 12s/step - loss: 0.2805 - msle: 0.0491 - val_loss: 0.3728 - val_msle: 0.0572 - learning_rate: 0.0094\n",
      "Epoch 60/1000\n",
      "\u001b[1m3/3\u001b[0m \u001b[32m━━━━━━━━━━━━━━━━━━━━\u001b[0m\u001b[37m\u001b[0m \u001b[1m36s\u001b[0m 12s/step - loss: 0.2393 - msle: 0.0422 - val_loss: 0.4843 - val_msle: 0.0675 - learning_rate: 0.0094\n",
      "Epoch 61/1000\n",
      "\u001b[1m3/3\u001b[0m \u001b[32m━━━━━━━━━━━━━━━━━━━━\u001b[0m\u001b[37m\u001b[0m \u001b[1m36s\u001b[0m 12s/step - loss: 0.3059 - msle: 0.0502 - val_loss: 0.7652 - val_msle: 0.1126 - learning_rate: 0.0094\n",
      "Epoch 62/1000\n",
      "\u001b[1m3/3\u001b[0m \u001b[32m━━━━━━━━━━━━━━━━━━━━\u001b[0m\u001b[37m\u001b[0m \u001b[1m36s\u001b[0m 12s/step - loss: 0.3149 - msle: 0.0519 - val_loss: 0.8444 - val_msle: 0.1375 - learning_rate: 0.0094\n",
      "Epoch 63/1000\n",
      "\u001b[1m3/3\u001b[0m \u001b[32m━━━━━━━━━━━━━━━━━━━━\u001b[0m\u001b[37m\u001b[0m \u001b[1m36s\u001b[0m 12s/step - loss: 0.6201 - msle: 0.1260 - val_loss: 0.6399 - val_msle: 0.1209 - learning_rate: 0.0094\n",
      "Epoch 64/1000\n",
      "\u001b[1m3/3\u001b[0m \u001b[32m━━━━━━━━━━━━━━━━━━━━\u001b[0m\u001b[37m\u001b[0m \u001b[1m36s\u001b[0m 12s/step - loss: 1.0393 - msle: 0.2900 - val_loss: 0.2388 - val_msle: 0.0383 - learning_rate: 0.0094\n",
      "Epoch 65/1000\n",
      "\u001b[1m3/3\u001b[0m \u001b[32m━━━━━━━━━━━━━━━━━━━━\u001b[0m\u001b[37m\u001b[0m \u001b[1m36s\u001b[0m 12s/step - loss: 0.4079 - msle: 0.0734 - val_loss: 0.4796 - val_msle: 0.0773 - learning_rate: 0.0094\n",
      "Epoch 66/1000\n",
      "\u001b[1m3/3\u001b[0m \u001b[32m━━━━━━━━━━━━━━━━━━━━\u001b[0m\u001b[37m\u001b[0m \u001b[1m36s\u001b[0m 12s/step - loss: 0.4070 - msle: 0.0693 - val_loss: 0.6657 - val_msle: 0.1007 - learning_rate: 0.0094\n",
      "Epoch 67/1000\n",
      "\u001b[1m3/3\u001b[0m \u001b[32m━━━━━━━━━━━━━━━━━━━━\u001b[0m\u001b[37m\u001b[0m \u001b[1m36s\u001b[0m 12s/step - loss: 0.5231 - msle: 0.0874 - val_loss: 0.5601 - val_msle: 0.0872 - learning_rate: 0.0093\n",
      "Epoch 68/1000\n",
      "\u001b[1m3/3\u001b[0m \u001b[32m━━━━━━━━━━━━━━━━━━━━\u001b[0m\u001b[37m\u001b[0m \u001b[1m36s\u001b[0m 12s/step - loss: 0.3961 - msle: 0.0696 - val_loss: 0.3309 - val_msle: 0.0526 - learning_rate: 0.0093\n",
      "Epoch 69/1000\n"
     ]
    },
    {
     "name": "stderr",
     "output_type": "stream",
     "text": [
      "2024-08-05 18:00:48.606701: W tensorflow/core/kernels/data/prefetch_autotuner.cc:52] Prefetch autotuner tried to allocate 310210560 bytes after encountering the first element of size 310210560 bytes.This already causes the autotune ram budget to be exceeded. To stay within the ram budget, either increase the ram budget or reduce element size\n"
     ]
    },
    {
     "name": "stdout",
     "output_type": "stream",
     "text": [
      "\u001b[1m3/3\u001b[0m \u001b[32m━━━━━━━━━━━━━━━━━━━━\u001b[0m\u001b[37m\u001b[0m \u001b[1m36s\u001b[0m 12s/step - loss: 0.3672 - msle: 0.0696 - val_loss: 0.2721 - val_msle: 0.0461 - learning_rate: 0.0093\n",
      "Epoch 70/1000\n"
     ]
    },
    {
     "name": "stderr",
     "output_type": "stream",
     "text": [
      "2024-08-05 18:01:24.429137: W tensorflow/core/kernels/data/prefetch_autotuner.cc:52] Prefetch autotuner tried to allocate 310210560 bytes after encountering the first element of size 310210560 bytes.This already causes the autotune ram budget to be exceeded. To stay within the ram budget, either increase the ram budget or reduce element size\n"
     ]
    },
    {
     "name": "stdout",
     "output_type": "stream",
     "text": [
      "\u001b[1m3/3\u001b[0m \u001b[32m━━━━━━━━━━━━━━━━━━━━\u001b[0m\u001b[37m\u001b[0m \u001b[1m36s\u001b[0m 12s/step - loss: 0.2917 - msle: 0.0523 - val_loss: 0.3377 - val_msle: 0.0602 - learning_rate: 0.0093\n",
      "Epoch 71/1000\n"
     ]
    },
    {
     "name": "stderr",
     "output_type": "stream",
     "text": [
      "2024-08-05 18:02:00.428489: W tensorflow/core/kernels/data/prefetch_autotuner.cc:52] Prefetch autotuner tried to allocate 310210560 bytes after encountering the first element of size 310210560 bytes.This already causes the autotune ram budget to be exceeded. To stay within the ram budget, either increase the ram budget or reduce element size\n"
     ]
    },
    {
     "name": "stdout",
     "output_type": "stream",
     "text": [
      "\u001b[1m3/3\u001b[0m \u001b[32m━━━━━━━━━━━━━━━━━━━━\u001b[0m\u001b[37m\u001b[0m \u001b[1m37s\u001b[0m 12s/step - loss: 0.2925 - msle: 0.0524 - val_loss: 0.4169 - val_msle: 0.0797 - learning_rate: 0.0093\n",
      "Epoch 72/1000\n"
     ]
    },
    {
     "name": "stderr",
     "output_type": "stream",
     "text": [
      "2024-08-05 18:02:37.034992: W tensorflow/core/kernels/data/prefetch_autotuner.cc:52] Prefetch autotuner tried to allocate 310210560 bytes after encountering the first element of size 310210560 bytes.This already causes the autotune ram budget to be exceeded. To stay within the ram budget, either increase the ram budget or reduce element size\n"
     ]
    },
    {
     "name": "stdout",
     "output_type": "stream",
     "text": [
      "\u001b[1m3/3\u001b[0m \u001b[32m━━━━━━━━━━━━━━━━━━━━\u001b[0m\u001b[37m\u001b[0m \u001b[1m36s\u001b[0m 12s/step - loss: 0.3112 - msle: 0.0603 - val_loss: 0.4784 - val_msle: 0.0940 - learning_rate: 0.0093\n",
      "Epoch 73/1000\n",
      "\u001b[1m3/3\u001b[0m \u001b[32m━━━━━━━━━━━━━━━━━━━━\u001b[0m\u001b[37m\u001b[0m \u001b[1m37s\u001b[0m 12s/step - loss: 0.3125 - msle: 0.0612 - val_loss: 0.4924 - val_msle: 0.0936 - learning_rate: 0.0093\n",
      "Epoch 74/1000\n",
      "\u001b[1m3/3\u001b[0m \u001b[32m━━━━━━━━━━━━━━━━━━━━\u001b[0m\u001b[37m\u001b[0m \u001b[1m42s\u001b[0m 14s/step - loss: 0.2802 - msle: 0.0523 - val_loss: 0.4534 - val_msle: 0.0849 - learning_rate: 0.0093\n",
      "Epoch 75/1000\n",
      "\u001b[1m3/3\u001b[0m \u001b[32m━━━━━━━━━━━━━━━━━━━━\u001b[0m\u001b[37m\u001b[0m \u001b[1m39s\u001b[0m 13s/step - loss: 0.2574 - msle: 0.0472 - val_loss: 0.4109 - val_msle: 0.0736 - learning_rate: 0.0093\n",
      "Epoch 76/1000\n",
      "\u001b[1m3/3\u001b[0m \u001b[32m━━━━━━━━━━━━━━━━━━━━\u001b[0m\u001b[37m\u001b[0m \u001b[1m37s\u001b[0m 12s/step - loss: 0.2288 - msle: 0.0394 - val_loss: 0.4014 - val_msle: 0.0724 - learning_rate: 0.0093\n",
      "Epoch 77/1000\n"
     ]
    },
    {
     "name": "stderr",
     "output_type": "stream",
     "text": [
      "2024-08-05 18:05:47.607767: W tensorflow/core/kernels/data/prefetch_autotuner.cc:52] Prefetch autotuner tried to allocate 310210560 bytes after encountering the first element of size 310210560 bytes.This already causes the autotune ram budget to be exceeded. To stay within the ram budget, either increase the ram budget or reduce element size\n"
     ]
    },
    {
     "name": "stdout",
     "output_type": "stream",
     "text": [
      "\u001b[1m3/3\u001b[0m \u001b[32m━━━━━━━━━━━━━━━━━━━━\u001b[0m\u001b[37m\u001b[0m \u001b[1m37s\u001b[0m 12s/step - loss: 0.2126 - msle: 0.0357 - val_loss: 0.3825 - val_msle: 0.0673 - learning_rate: 0.0092\n",
      "Epoch 78/1000\n",
      "\u001b[1m3/3\u001b[0m \u001b[32m━━━━━━━━━━━━━━━━━━━━\u001b[0m\u001b[37m\u001b[0m \u001b[1m37s\u001b[0m 12s/step - loss: 0.1955 - msle: 0.0314 - val_loss: 0.3635 - val_msle: 0.0629 - learning_rate: 0.0092\n",
      "Epoch 79/1000\n",
      "\u001b[1m3/3\u001b[0m \u001b[32m━━━━━━━━━━━━━━━━━━━━\u001b[0m\u001b[37m\u001b[0m \u001b[1m37s\u001b[0m 12s/step - loss: 0.1845 - msle: 0.0291 - val_loss: 0.3471 - val_msle: 0.0598 - learning_rate: 0.0092\n",
      "Epoch 80/1000\n",
      "\u001b[1m3/3\u001b[0m \u001b[32m━━━━━━━━━━━━━━━━━━━━\u001b[0m\u001b[37m\u001b[0m \u001b[1m37s\u001b[0m 12s/step - loss: 0.1739 - msle: 0.0268 - val_loss: 0.3235 - val_msle: 0.0548 - learning_rate: 0.0092\n",
      "Epoch 81/1000\n",
      "\u001b[1m3/3\u001b[0m \u001b[32m━━━━━━━━━━━━━━━━━━━━\u001b[0m\u001b[37m\u001b[0m \u001b[1m37s\u001b[0m 12s/step - loss: 0.1647 - msle: 0.0249 - val_loss: 0.3030 - val_msle: 0.0511 - learning_rate: 0.0092\n",
      "Epoch 82/1000\n",
      "\u001b[1m3/3\u001b[0m \u001b[32m━━━━━━━━━━━━━━━━━━━━\u001b[0m\u001b[37m\u001b[0m \u001b[1m38s\u001b[0m 13s/step - loss: 0.1560 - msle: 0.0231 - val_loss: 0.2850 - val_msle: 0.0480 - learning_rate: 0.0092\n",
      "Epoch 83/1000\n",
      "\u001b[1m3/3\u001b[0m \u001b[32m━━━━━━━━━━━━━━━━━━━━\u001b[0m\u001b[37m\u001b[0m \u001b[1m38s\u001b[0m 13s/step - loss: 0.1496 - msle: 0.0219 - val_loss: 0.2737 - val_msle: 0.0457 - learning_rate: 0.0092\n",
      "Epoch 84/1000\n",
      "\u001b[1m3/3\u001b[0m \u001b[32m━━━━━━━━━━━━━━━━━━━━\u001b[0m\u001b[37m\u001b[0m \u001b[1m38s\u001b[0m 12s/step - loss: 0.1425 - msle: 0.0205 - val_loss: 0.2597 - val_msle: 0.0433 - learning_rate: 0.0092\n"
     ]
    }
   ],
   "source": [
    "def split_series(series, n_past, n_future):\n",
    "    X, y = [], []\n",
    "    for window_start in range(len(series)):\n",
    "        past_end = window_start + n_past\n",
    "        future_end = past_end + n_future\n",
    "        if future_end > len(series):\n",
    "            break\n",
    "        X.append(series[window_start:past_end, :])\n",
    "        y.append(series[past_end:future_end, :])\n",
    "    return np.array(X), np.array(y)\n",
    "\n",
    "n_future = 16\n",
    "n_past = scaled_validation_samples.shape[0] - n_future\n",
    "n_features = num_stores_train * num_families_train\n",
    "\n",
    "if (n_past - n_future)%2 == 0:\n",
    "    crop_max = int((n_past - n_future))\n",
    "else:\n",
    "    crop_min = int((n_past - n_future)/2)\n",
    "    crop_max = 2*crop_min + 1\n",
    "\n",
    "X_train, y_train = split_series(scaled_train_samples, n_past, n_future)\n",
    "X_val, y_val = split_series(scaled_validation_samples, n_past, n_future)\n",
    "\n",
    "model = Sequential()\n",
    "model.add(layers.SeparableConv1D(filters=512, kernel_size=(7), padding='same', input_shape=(n_past, n_features)))\n",
    "model.add(layers.SeparableConv1D(filters=512, kernel_size=(7), padding='same'))\n",
    "model.add(layers.SeparableConv1D(filters=512, kernel_size=(7), padding='same'))\n",
    "model.add(layers.MaxPool1D(strides=1, padding='same'))\n",
    "model.add(layers.SeparableConv1D(filters=1024, kernel_size=(15), padding='same'))\n",
    "model.add(layers.SeparableConv1D(filters=1024, kernel_size=(15), padding='same'))\n",
    "model.add(layers.SeparableConv1D(filters=1024, kernel_size=(15), padding='same'))\n",
    "model.add(layers.MaxPool1D(strides=1, padding='same'))\n",
    "model.add(layers.SeparableConv1D(filters=512, kernel_size=(7), padding='same'))\n",
    "model.add(layers.SeparableConv1D(filters=512, kernel_size=(7), padding='same'))\n",
    "model.add(layers.SeparableConv1D(filters=512, kernel_size=(7), padding='same'))\n",
    "model.add(layers.MaxPool1D(strides=1, padding='same'))\n",
    "model.add(layers.Bidirectional(layers.LSTM(units=256, return_sequences=True)))\n",
    "model.add(layers.BatchNormalization())\n",
    "model.add(layers.Dropout(0.2))\n",
    "model.add(layers.Bidirectional(layers.LSTM(units=256, return_sequences=True)))\n",
    "model.add(layers.BatchNormalization())\n",
    "model.add(layers.Dropout(0.2))\n",
    "model.add(layers.Cropping1D(cropping=(0, crop_max)))\n",
    "model.add(layers.TimeDistributed(layers.Dense(n_features)))\n",
    "\n",
    "model.compile(loss='mae', optimizer=tf.keras.optimizers.Adam(learning_rate=0.001), metrics=['msle'])\n",
    "model.build((None, n_past, n_features))\n",
    "model.summary()\n",
    "\n",
    "early_stopping = EarlyStopping(monitor='val_msle', min_delta=1e-4, patience=50, restore_best_weights=True)\n",
    "\n",
    "model_history = model.fit(X_train, y_train, validation_data=(X_val, y_val), epochs=epochs, callbacks=[lr_cb, early_stopping], \n",
    "                          batch_size=batch_size, shuffle=False)"
   ]
  },
  {
   "cell_type": "code",
   "execution_count": 18,
   "id": "490023ce",
   "metadata": {
    "execution": {
     "iopub.execute_input": "2024-07-26T08:05:06.218684Z",
     "iopub.status.busy": "2024-07-26T08:05:06.218326Z",
     "iopub.status.idle": "2024-07-26T08:05:06.795815Z",
     "shell.execute_reply": "2024-07-26T08:05:06.794869Z"
    },
    "papermill": {
     "duration": 0.748359,
     "end_time": "2024-07-26T08:05:06.797773",
     "exception": false,
     "start_time": "2024-07-26T08:05:06.049414",
     "status": "completed"
    },
    "tags": []
   },
   "outputs": [
    {
     "name": "stdout",
     "output_type": "stream",
     "text": [
      "\u001b[1m1/1\u001b[0m \u001b[32m━━━━━━━━━━━━━━━━━━━━\u001b[0m\u001b[37m\u001b[0m \u001b[1m1s\u001b[0m 588ms/step\n"
     ]
    }
   ],
   "source": [
    "x_test_pred = scaled_validation_samples[-n_past:].reshape((1, n_past, n_features))\n",
    "scaled_y_predict = model.predict(x_test_pred)\n",
    "\n",
    "y_predict = pd.DataFrame(minmax_scaler.inverse_transform(scaled_y_predict.reshape((n_future, n_features))), columns=valid_samples_df.columns)"
   ]
  },
  {
   "cell_type": "code",
   "execution_count": 19,
   "id": "effd2ca0",
   "metadata": {
    "execution": {
     "iopub.execute_input": "2024-07-26T08:05:07.139459Z",
     "iopub.status.busy": "2024-07-26T08:05:07.138630Z",
     "iopub.status.idle": "2024-07-26T08:05:20.854097Z",
     "shell.execute_reply": "2024-07-26T08:05:20.852995Z"
    },
    "papermill": {
     "duration": 13.887426,
     "end_time": "2024-07-26T08:05:20.856161",
     "exception": false,
     "start_time": "2024-07-26T08:05:06.968735",
     "status": "completed"
    },
    "tags": []
   },
   "outputs": [
    {
     "name": "stdout",
     "output_type": "stream",
     "text": [
      "\n",
      "First 5 rows of the data:\n",
      "               sales\n",
      "id                  \n",
      "3000888     2.882082\n",
      "3000889     0.000000\n",
      "3000890     1.727063\n",
      "3000891  2082.949463\n",
      "3000892     0.930780\n"
     ]
    }
   ],
   "source": [
    "pivoted_test = test_data.pivot(index=['date','dcoilwtico','dayofweek'], columns=['store_nbr', 'family'], values='id')\n",
    "\n",
    "for day_ith, day_ith_pred in y_predict.iterrows():\n",
    "    for n_samples_per_day in range(len(day_ith_pred)):\n",
    "        sample_id = pivoted_test.iloc[[day_ith], [n_samples_per_day]].values[0][0]\n",
    "        values = max(0, day_ith_pred.values[n_samples_per_day])\n",
    "        submission.at[sample_id, 'sales'] = max(0, day_ith_pred.values[n_samples_per_day])\n",
    "\n",
    "submission.to_csv('submission.csv')\n",
    "print(\"\\nFirst 5 rows of the data:\")\n",
    "print(submission.head())"
   ]
  }
 ],
 "metadata": {
  "kaggle": {
   "accelerator": "nvidiaTeslaT4",
   "dataSources": [
    {
     "databundleVersionId": 2887556,
     "sourceId": 29781,
     "sourceType": "competition"
    }
   ],
   "dockerImageVersionId": 30732,
   "isGpuEnabled": true,
   "isInternetEnabled": true,
   "language": "python",
   "sourceType": "notebook"
  },
  "kernelspec": {
   "display_name": "Python 3",
   "language": "python",
   "name": "python3"
  },
  "language_info": {
   "codemirror_mode": {
    "name": "ipython",
    "version": 3
   },
   "file_extension": ".py",
   "mimetype": "text/x-python",
   "name": "python",
   "nbconvert_exporter": "python",
   "pygments_lexer": "ipython3",
   "version": "3.10.12"
  },
  "papermill": {
   "default_parameters": {},
   "duration": 286.363123,
   "end_time": "2024-07-26T08:05:24.383801",
   "environment_variables": {},
   "exception": null,
   "input_path": "__notebook__.ipynb",
   "output_path": "__notebook__.ipynb",
   "parameters": {},
   "start_time": "2024-07-26T08:00:38.020678",
   "version": "2.5.0"
  }
 },
 "nbformat": 4,
 "nbformat_minor": 5
}
